{
 "cells": [
  {
   "cell_type": "code",
   "execution_count": 2,
   "id": "778e32ce",
   "metadata": {},
   "outputs": [],
   "source": [
    "import glob"
   ]
  },
  {
   "cell_type": "code",
   "execution_count": 18,
   "id": "3a9d1ace",
   "metadata": {},
   "outputs": [
    {
     "name": "stdout",
     "output_type": "stream",
     "text": [
      "102\n"
     ]
    }
   ],
   "source": [
    "dir_path = '/home/bettyld/PJ/Documents/NLP_PJ/data/gutenberg/'\n",
    "name_list = []\n",
    "author_list = []\n",
    "sentence_list = []\n",
    "list_files = glob.glob(dir_path+ '*.txt')\n",
    "print(len(list_files))\n",
    "# for file in glob.glob(dir_path+ '*.txt'):\n",
    "#     print(file)\n",
    "#     with open(file, 'r') as f:\n",
    "#         for l in f.readlines():\n",
    "#             print(l)\n",
    "#     break\n",
    "    \n"
   ]
  }
 ],
 "metadata": {
  "kernelspec": {
   "display_name": "env",
   "language": "python",
   "name": "env"
  },
  "language_info": {
   "codemirror_mode": {
    "name": "ipython",
    "version": 3
   },
   "file_extension": ".py",
   "mimetype": "text/x-python",
   "name": "python",
   "nbconvert_exporter": "python",
   "pygments_lexer": "ipython3",
   "version": "3.8.10"
  }
 },
 "nbformat": 4,
 "nbformat_minor": 5
}
