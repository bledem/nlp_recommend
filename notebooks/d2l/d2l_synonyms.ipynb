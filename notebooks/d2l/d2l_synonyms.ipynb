{
 "cells": [
  {
   "cell_type": "code",
   "execution_count": 47,
   "id": "5f2ff1c8",
   "metadata": {},
   "outputs": [],
   "source": [
    "import numpy as np\n",
    "import os\n",
    "import torch\n",
    "from torch import nn\n",
    "from d2l import torch as d2l\n"
   ]
  },
  {
   "cell_type": "markdown",
   "id": "6235effd",
   "metadata": {},
   "source": [
    "# Prepare pretrained embedding dl\n",
    "\n",
    "We use GloVe, a stable version of word2vec. (see detailed explanations [here](https://d2l.ai/chapter_natural-language-processing-pretraining/glove.html)) or [fastText](https://fasttext.cc/)"
   ]
  },
  {
   "cell_type": "code",
   "execution_count": 48,
   "id": "e8a00724",
   "metadata": {},
   "outputs": [],
   "source": [
    "#@save\n",
    "d2l.DATA_HUB['glove.6b.50d'] = (d2l.DATA_URL + 'glove.6B.50d.zip',\n",
    "                                '0b8703943ccdb6eb788e6f091b8946e82231bc4d')\n",
    "\n",
    "#@save\n",
    "d2l.DATA_HUB['glove.6b.100d'] = (d2l.DATA_URL + 'glove.6B.100d.zip',\n",
    "                                 'cd43bfb07e44e6f27cbcc7bc9ae3d80284fdaf5a')\n",
    "\n",
    "#@save\n",
    "d2l.DATA_HUB['glove.42b.300d'] = (d2l.DATA_URL + 'glove.42B.300d.zip',\n",
    "                                  'b5116e234e9eb9076672cfeabf5469f3eec904fa')\n",
    "\n",
    "#@save\n",
    "d2l.DATA_HUB['wiki.en'] = (d2l.DATA_URL + 'wiki.en.zip',\n",
    "                           'c1816da3821ae9f43899be655002f6c723e91b88')"
   ]
  },
  {
   "cell_type": "code",
   "execution_count": 49,
   "id": "c8e41c03",
   "metadata": {},
   "outputs": [
    {
     "data": {
      "text/plain": [
       "('http://d2l-data.s3-accelerate.amazonaws.com/wiki.en.zip',\n",
       " 'c1816da3821ae9f43899be655002f6c723e91b88')"
      ]
     },
     "execution_count": 49,
     "metadata": {},
     "output_type": "execute_result"
    }
   ],
   "source": [
    "d2l.DATA_HUB['wiki.en']"
   ]
  },
  {
   "cell_type": "markdown",
   "id": "77cba80d",
   "metadata": {},
   "source": [
    "# Load embedding through a class"
   ]
  },
  {
   "cell_type": "code",
   "execution_count": 50,
   "id": "0ff1e9ca",
   "metadata": {},
   "outputs": [],
   "source": [
    "class TokenEmbedding:\n",
    "    \"\"\"Token Embedding.\"\"\"\n",
    "    def __init__(self, embedding_name):\n",
    "        self.idx_to_token, self.idx_to_vec = self._load_embedding(\n",
    "            embedding_name)\n",
    "        self.unknown_idx = 0\n",
    "        self.token_to_idx = {\n",
    "            token: idx for idx, token in enumerate(self.idx_to_token)}\n",
    "\n",
    "    def _load_embedding(self, embedding_name):\n",
    "        idx_to_token, idx_to_vec = ['<unk>'], []\n",
    "        data_dir = d2l.download_extract(embedding_name)\n",
    "        # GloVe website: https://nlp.stanford.edu/projects/glove/\n",
    "        # fastText website: https://fasttext.cc/\n",
    "        with open(os.path.join(data_dir, 'vec.txt'), 'r') as f:\n",
    "            for line in f:\n",
    "                elems = line.rstrip().split(' ')\n",
    "                token, elems = elems[0], [float(elem) for elem in elems[1:]]\n",
    "                # Skip header information, such as the top row in fastText\n",
    "                if len(elems) > 1:\n",
    "                    idx_to_token.append(token)\n",
    "                    idx_to_vec.append(elems)\n",
    "        idx_to_vec = [[0] * len(idx_to_vec[0])] + idx_to_vec\n",
    "        return idx_to_token, torch.tensor(idx_to_vec)\n",
    "\n",
    "    def __getitem__(self, tokens):\n",
    "        indices = [\n",
    "            self.token_to_idx.get(token, self.unknown_idx)\n",
    "            for token in tokens]\n",
    "        vecs = self.idx_to_vec[torch.tensor(indices)]\n",
    "        return vecs\n",
    "\n",
    "    def __len__(self):\n",
    "        return len(self.idx_to_token)"
   ]
  },
  {
   "cell_type": "code",
   "execution_count": 51,
   "id": "15e38bda",
   "metadata": {},
   "outputs": [],
   "source": [
    "glove_6b50d = TokenEmbedding('glove.6b.50d')\n"
   ]
  },
  {
   "cell_type": "code",
   "execution_count": 52,
   "id": "8ff4cb1f",
   "metadata": {},
   "outputs": [
    {
     "name": "stdout",
     "output_type": "stream",
     "text": [
      "400001\n",
      "tokens: ['<unk>', 'the', ',']\n",
      "vecs: torch.Size([400001, 50])\n",
      "idx: [('<unk>', 0), ('the', 1), (',', 2)]\n"
     ]
    },
    {
     "data": {
      "text/plain": [
       "torch.Size([1, 50])"
      ]
     },
     "execution_count": 52,
     "metadata": {},
     "output_type": "execute_result"
    }
   ],
   "source": [
    "# General infos\n",
    "print(len(glove_6b50d))\n",
    "\n",
    "# Attributes\n",
    "print('tokens:', glove_6b50d.idx_to_token[:3])\n",
    "print('vecs:', glove_6b50d.idx_to_vec.shape)\n",
    "print('idx:', list(glove_6b50d.token_to_idx.items())[:3])\n",
    "\n",
    "# Dict {token:vector}\n",
    "glove_6b50d['a'].shape"
   ]
  },
  {
   "cell_type": "markdown",
   "id": "1bdd64be",
   "metadata": {},
   "source": [
    "## Synonyms with...\n",
    "K nearest neirghbor"
   ]
  },
  {
   "cell_type": "code",
   "execution_count": 104,
   "id": "9acaae82",
   "metadata": {},
   "outputs": [],
   "source": [
    "def knn(W, x, k):\n",
    "    cos_sim = torch.mv(W, x.reshape(-1,)) / (torch.sqrt(torch.sum(W* W, axis=1) + 1e-9 ) * torch.sqrt((x*x).sum()))\n",
    "    topk_val, topk_idx = torch.topk(cos_sim, k=k)\n",
    "    topk_val = [cos_sim[int(i)] for i in topk_idx]\n",
    "    return topk_idx , topk_val\n"
   ]
  },
  {
   "cell_type": "code",
   "execution_count": 105,
   "id": "e913cf1b",
   "metadata": {},
   "outputs": [
    {
     "data": {
      "text/plain": [
       "(torch.Size([50]), torch.Size([1, 50]))"
      ]
     },
     "execution_count": 105,
     "metadata": {},
     "output_type": "execute_result"
    }
   ],
   "source": [
    "a = glove_6b50d['a'] * glove_6b50d['a']\n",
    "torch.sum(a, axis=1)\n",
    "a.reshape(-1,).shape, glove_6b50d['a'].shape"
   ]
  },
  {
   "cell_type": "code",
   "execution_count": 108,
   "id": "65920332",
   "metadata": {},
   "outputs": [
    {
     "name": "stdout",
     "output_type": "stream",
     "text": [
      "cosine sim=0.749: intel\n",
      "cosine sim=0.749: electronics\n",
      "cosine sim=0.731: semiconductor\n"
     ]
    }
   ],
   "source": [
    "def get_similar_tokens(query_token, k, embed):\n",
    "    topk_idx, topk_val = knn(embed.idx_to_vec, embed[[query_token]], k+2)\n",
    "    for i, c in zip(topk_idx[2:], topk_val[2:]): # remove input words\n",
    "        print(f'cosine sim={float(c):.3f}: {embed.idx_to_token[int(i)]}')\n",
    "\n",
    "    \n",
    "\n",
    "get_similar_tokens('chip', 3, glove_6b50d)"
   ]
  },
  {
   "cell_type": "code",
   "execution_count": 109,
   "id": "eebc99ac",
   "metadata": {},
   "outputs": [
    {
     "name": "stdout",
     "output_type": "stream",
     "text": [
      "cosine sim=0.800: boy\n",
      "cosine sim=0.792: girl\n",
      "cosine sim=0.778: newborn\n"
     ]
    }
   ],
   "source": [
    "get_similar_tokens('baby', 3, glove_6b50d)"
   ]
  },
  {
   "cell_type": "code",
   "execution_count": 110,
   "id": "beaba75e",
   "metadata": {},
   "outputs": [
    {
     "name": "stdout",
     "output_type": "stream",
     "text": [
      "cosine sim=0.893: gorgeous\n",
      "cosine sim=0.830: wonderful\n",
      "cosine sim=0.825: charming\n"
     ]
    }
   ],
   "source": [
    "get_similar_tokens('beautiful', 3, glove_6b50d)\n"
   ]
  },
  {
   "cell_type": "markdown",
   "id": "58b947c4",
   "metadata": {},
   "source": [
    "### Analogies\n",
    "Analogy of man is woman and of son is daughter.\n",
    "\n",
    "This relation is formally written as: “man”:“woman”::“son”:“daughter”\n",
    "We can generalize to:\n",
    "``a:b::c:d`` \n",
    "Where we look for d, given a,b,c.\n",
    "\n",
    "We can find d with the formula:\n",
    "``vec(c)+vec(b)-vec(a)``"
   ]
  },
  {
   "cell_type": "code",
   "execution_count": 111,
   "id": "efbfb14e",
   "metadata": {},
   "outputs": [],
   "source": [
    "def get_analogy(token_a, token_b, token_c, embed):\n",
    "    vec_d = embed[[token_c]] + \\\n",
    "            embed[[token_b]] - \\\n",
    "            embed[[token_a]]\n",
    "    topk, cos = knn(embed.idx_to_vec, vec_d, 1)\n",
    "    return embed.idx_to_token[int(topk[0])]"
   ]
  },
  {
   "cell_type": "code",
   "execution_count": 112,
   "id": "d0061b7f",
   "metadata": {},
   "outputs": [
    {
     "data": {
      "text/plain": [
       "'daughter'"
      ]
     },
     "execution_count": 112,
     "metadata": {},
     "output_type": "execute_result"
    }
   ],
   "source": [
    "get_analogy('man', 'woman', 'son', glove_6b50d)\n"
   ]
  },
  {
   "cell_type": "code",
   "execution_count": 113,
   "id": "403af5d7",
   "metadata": {},
   "outputs": [
    {
     "data": {
      "text/plain": [
       "'japan'"
      ]
     },
     "execution_count": 113,
     "metadata": {},
     "output_type": "execute_result"
    }
   ],
   "source": [
    "get_analogy('beijing', 'china', 'tokyo', glove_6b50d)\n"
   ]
  },
  {
   "cell_type": "code",
   "execution_count": 114,
   "id": "b6fd5e27",
   "metadata": {},
   "outputs": [
    {
     "data": {
      "text/plain": [
       "'biggest'"
      ]
     },
     "execution_count": 114,
     "metadata": {},
     "output_type": "execute_result"
    }
   ],
   "source": [
    "get_analogy('bad', 'worst', 'big', glove_6b50d)"
   ]
  },
  {
   "cell_type": "code",
   "execution_count": 115,
   "id": "c0fd1eac",
   "metadata": {},
   "outputs": [
    {
     "data": {
      "text/plain": [
       "'went'"
      ]
     },
     "execution_count": 115,
     "metadata": {},
     "output_type": "execute_result"
    }
   ],
   "source": [
    "get_analogy('do', 'did', 'go', glove_6b50d)"
   ]
  },
  {
   "cell_type": "code",
   "execution_count": null,
   "id": "2e2bdc38",
   "metadata": {},
   "outputs": [],
   "source": []
  }
 ],
 "metadata": {
  "kernelspec": {
   "display_name": "Python [conda env:py37]",
   "language": "python",
   "name": "conda-env-py37-py"
  },
  "language_info": {
   "codemirror_mode": {
    "name": "ipython",
    "version": 3
   },
   "file_extension": ".py",
   "mimetype": "text/x-python",
   "name": "python",
   "nbconvert_exporter": "python",
   "pygments_lexer": "ipython3",
   "version": "3.7.9"
  }
 },
 "nbformat": 4,
 "nbformat_minor": 5
}
