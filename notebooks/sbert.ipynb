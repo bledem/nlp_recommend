{
 "cells": [
  {
   "cell_type": "code",
   "execution_count": 1,
   "id": "a4e414b9",
   "metadata": {},
   "outputs": [],
   "source": [
    "import sys\n",
    "sys.path.insert(0, '/home/bettyld/PJ/Documents/NLP_PJ/nlp_recommend')"
   ]
  },
  {
   "cell_type": "code",
   "execution_count": 2,
   "id": "89e0aa46",
   "metadata": {},
   "outputs": [],
   "source": []
  },
  {
   "cell_type": "code",
   "execution_count": 7,
   "id": "8a7727ab",
   "metadata": {},
   "outputs": [
    {
     "name": "stdout",
     "output_type": "stream",
     "text": [
      "Removing numbers...\n",
      "Removing proper noun... 4837\n"
     ]
    },
    {
     "name": "stderr",
     "output_type": "stream",
     "text": [
      "Processing: 100%|█████████████████████████████████| 6/6 [00:13<00:00,  2.21s/it]\n"
     ]
    },
    {
     "name": "stdout",
     "output_type": "stream",
     "text": [
      "Cleaning sentences...\n",
      "Index(['index', 'sentence', 'author', 'title', 'clean_sentence',\n",
      "       'tok_lem_sentence'],\n",
      "      dtype='object')\n"
     ]
    },
    {
     "data": {
      "text/html": [
       "<div>\n",
       "<style scoped>\n",
       "    .dataframe tbody tr th:only-of-type {\n",
       "        vertical-align: middle;\n",
       "    }\n",
       "\n",
       "    .dataframe tbody tr th {\n",
       "        vertical-align: top;\n",
       "    }\n",
       "\n",
       "    .dataframe thead th {\n",
       "        text-align: right;\n",
       "    }\n",
       "</style>\n",
       "<table border=\"1\" class=\"dataframe\">\n",
       "  <thead>\n",
       "    <tr style=\"text-align: right;\">\n",
       "      <th></th>\n",
       "      <th>level_0</th>\n",
       "      <th>index</th>\n",
       "      <th>sentence</th>\n",
       "      <th>author</th>\n",
       "      <th>title</th>\n",
       "      <th>clean_sentence</th>\n",
       "      <th>tok_lem_sentence</th>\n",
       "    </tr>\n",
       "  </thead>\n",
       "  <tbody>\n",
       "    <tr>\n",
       "      <th>0</th>\n",
       "      <td>2513</td>\n",
       "      <td>76899</td>\n",
       "      <td>And of the art of instruction, shall we say th...</td>\n",
       "      <td>Plato</td>\n",
       "      <td>Phaedrus</td>\n",
       "      <td>and of the art of instruction shall we say tha...</td>\n",
       "      <td>[art, instruction, shall, say, one, many, kind]</td>\n",
       "    </tr>\n",
       "    <tr>\n",
       "      <th>1</th>\n",
       "      <td>2514</td>\n",
       "      <td>133124</td>\n",
       "      <td>Their appearance presence change and disappear...</td>\n",
       "      <td>Dasgupta</td>\n",
       "      <td>A History of Indian Philosophy, Volume 1</td>\n",
       "      <td>their appearance presence change and disappear...</td>\n",
       "      <td>[appearance, presence, change, disappearance, ...</td>\n",
       "    </tr>\n",
       "    <tr>\n",
       "      <th>2</th>\n",
       "      <td>2516</td>\n",
       "      <td>46612</td>\n",
       "      <td>It was not long before the effects of these al...</td>\n",
       "      <td>Hume</td>\n",
       "      <td>The history of england, under the house of tudor.</td>\n",
       "      <td>it was not long before the effects of these al...</td>\n",
       "      <td>[long, effect, alteration, seen]</td>\n",
       "    </tr>\n",
       "    <tr>\n",
       "      <th>3</th>\n",
       "      <td>2518</td>\n",
       "      <td>133276</td>\n",
       "      <td>In this state there is nothing which is known,...</td>\n",
       "      <td>Dasgupta</td>\n",
       "      <td>A History of Indian Philosophy, Volume 1</td>\n",
       "      <td>in this state there is nothing which is known ...</td>\n",
       "      <td>[state, nothing, known, even, knowledge, pheno...</td>\n",
       "    </tr>\n",
       "    <tr>\n",
       "      <th>4</th>\n",
       "      <td>2522</td>\n",
       "      <td>129669</td>\n",
       "      <td>They might be opposed as philosophy and rhetor...</td>\n",
       "      <td>Plato</td>\n",
       "      <td>Theaetetus</td>\n",
       "      <td>they might be opposed as philosophy and rhetor...</td>\n",
       "      <td>[might, opposed, philosophy, rhetoric, convers...</td>\n",
       "    </tr>\n",
       "  </tbody>\n",
       "</table>\n",
       "</div>"
      ],
      "text/plain": [
       "   level_0   index                                           sentence  \\\n",
       "0     2513   76899  And of the art of instruction, shall we say th...   \n",
       "1     2514  133124  Their appearance presence change and disappear...   \n",
       "2     2516   46612  It was not long before the effects of these al...   \n",
       "3     2518  133276  In this state there is nothing which is known,...   \n",
       "4     2522  129669  They might be opposed as philosophy and rhetor...   \n",
       "\n",
       "     author                                              title  \\\n",
       "0     Plato                                           Phaedrus   \n",
       "1  Dasgupta           A History of Indian Philosophy, Volume 1   \n",
       "2      Hume  The history of england, under the house of tudor.   \n",
       "3  Dasgupta           A History of Indian Philosophy, Volume 1   \n",
       "4     Plato                                         Theaetetus   \n",
       "\n",
       "                                      clean_sentence  \\\n",
       "0  and of the art of instruction shall we say tha...   \n",
       "1  their appearance presence change and disappear...   \n",
       "2  it was not long before the effects of these al...   \n",
       "3  in this state there is nothing which is known ...   \n",
       "4  they might be opposed as philosophy and rhetor...   \n",
       "\n",
       "                                    tok_lem_sentence  \n",
       "0    [art, instruction, shall, say, one, many, kind]  \n",
       "1  [appearance, presence, change, disappearance, ...  \n",
       "2                   [long, effect, alteration, seen]  \n",
       "3  [state, nothing, known, even, knowledge, pheno...  \n",
       "4  [might, opposed, philosophy, rhetoric, convers...  "
      ]
     },
     "execution_count": 7,
     "metadata": {},
     "output_type": "execute_result"
    }
   ],
   "source": [
    "from nlp_recommend.utils.load_data import LoadData\n",
    "corpus = LoadData(n_max=5000, random=True)\n",
    "philo_df = corpus.corpus\n",
    "philo_df.head()"
   ]
  },
  {
   "cell_type": "markdown",
   "id": "12b7617d",
   "metadata": {},
   "source": [
    "# SBert"
   ]
  },
  {
   "cell_type": "code",
   "execution_count": 8,
   "id": "eabb2eb9",
   "metadata": {},
   "outputs": [],
   "source": [
    "from sentence_transformers import SentenceTransformer, util\n",
    "import torch\n",
    "\n",
    "\n",
    "model = SentenceTransformer('paraphrase-MiniLM-L6-v2')"
   ]
  },
  {
   "cell_type": "code",
   "execution_count": 9,
   "id": "488eb144",
   "metadata": {},
   "outputs": [],
   "source": [
    "#Compute embeddings\n",
    "corpus_embeddings = model.encode(philo_df.sentence.values, convert_to_tensor=True)\n"
   ]
  },
  {
   "cell_type": "code",
   "execution_count": 10,
   "id": "e26d2212",
   "metadata": {},
   "outputs": [],
   "source": [
    "#Query sentences\n",
    "query_sentence = 'I am hungry, where is my dinner?'"
   ]
  },
  {
   "cell_type": "code",
   "execution_count": 27,
   "id": "63dde89a",
   "metadata": {},
   "outputs": [
    {
     "name": "stdout",
     "output_type": "stream",
     "text": [
      "\n",
      "\n",
      "======================\n",
      "\n",
      "\n",
      "Query: I am hungry, where is my dinner?\n",
      "\n",
      "Top 5 most similar sentences in corpus:\n",
      "sentence    I said painful, but that to eat when you are hungry is pleasant.\n",
      "author                                                                 Plato\n",
      "Name: 1237, dtype: object (Score: 0.5173)\n",
      "sentence    And as to Wagnerian leitmotif, I fear I lack the necessary culinary understanding for it.\n",
      "author                                                                                      Nietzsche\n",
      "Name: 792, dtype: object (Score: 0.3368)\n",
      "sentence    Hunger is no evidence that there is food at hand to appease it.\n",
      "author                                                            Nietzsche\n",
      "Name: 755, dtype: object (Score: 0.3335)\n",
      "sentence    For that I am too weak.\n",
      "author                    Nietzsche\n",
      "Name: 312, dtype: object (Score: 0.2912)\n",
      "sentence    It should be cooked for the female after parturition.\n",
      "author                                                  Aristotle\n",
      "Name: 182, dtype: object (Score: 0.2850)\n"
     ]
    }
   ],
   "source": [
    "import pandas as pd\n",
    "pd.options.display.max_colwidth = 500\n",
    "\n",
    "# Find the closest 5 sentences of the corpus for each query sentence based on cosine similarity\n",
    "top_k = min(5, len(corpus_embeddings))\n",
    "\n",
    "query_embedding = model.encode(query_sentence, convert_to_tensor=True)\n",
    "\n",
    "# We use cosine-similarity and torch.topk to find the highest 5 scores\n",
    "cos_scores = util.pytorch_cos_sim(query_embedding, corpus_embeddings)[0]\n",
    "top_results = torch.topk(cos_scores, k=top_k)\n",
    "# top_results = top_results.cpu().data.numpy().argmax()\n",
    "print(\"\\n\\n======================\\n\\n\")\n",
    "print(\"Query:\", query_sentence)\n",
    "print(\"\\nTop 5 most similar sentences in corpus:\")\n",
    "\n",
    "for score, idx in zip(top_results[0], top_results[1]):\n",
    "    score = score.cpu().data.numpy() \n",
    "    idx = idx.cpu().data.numpy()\n",
    "    print(philo_df[['sentence', 'author']].iloc[idx], \"(Score: {:.4f})\".format(score))"
   ]
  }
 ],
 "metadata": {
  "kernelspec": {
   "display_name": "env",
   "language": "python",
   "name": "env"
  },
  "language_info": {
   "codemirror_mode": {
    "name": "ipython",
    "version": 3
   },
   "file_extension": ".py",
   "mimetype": "text/x-python",
   "name": "python",
   "nbconvert_exporter": "python",
   "pygments_lexer": "ipython3",
   "version": "3.8.10"
  }
 },
 "nbformat": 4,
 "nbformat_minor": 5
}
