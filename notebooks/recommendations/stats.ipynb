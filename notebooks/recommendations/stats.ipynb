{
 "cells": [
  {
   "cell_type": "code",
   "execution_count": 1,
   "id": "6cb33bef",
   "metadata": {},
   "outputs": [
    {
     "name": "stderr",
     "output_type": "stream",
     "text": [
      "[nltk_data] Downloading package stopwords to\n",
      "[nltk_data]     /home/bettyld/nltk_data...\n",
      "[nltk_data]   Package stopwords is already up-to-date!\n",
      "[nltk_data] Downloading package punkt to /home/bettyld/nltk_data...\n",
      "[nltk_data]   Package punkt is already up-to-date!\n",
      "[nltk_data] Downloading package wordnet to /home/bettyld/nltk_data...\n",
      "[nltk_data]   Package wordnet is already up-to-date!\n",
      "/home/bettyld/PJ/Documents/NLP_PJ/env/lib/python3.8/site-packages/gensim/similarities/__init__.py:15: UserWarning: The gensim.similarities.levenshtein submodule is disabled, because the optional Levenshtein package <https://pypi.org/project/python-Levenshtein/> is unavailable. Install Levenhstein (e.g. `pip install python-Levenshtein`) to suppress this warning.\n",
      "  warnings.warn(msg)\n"
     ]
    }
   ],
   "source": [
    "%load_ext autoreload \n",
    "%autoreload 2\n",
    "\n",
    "import time\n",
    "import os\n",
    "import nltk\n",
    "import numpy as np\n",
    "import pandas as pd\n",
    "import matplotlib.pyplot as plt\n",
    "from sklearn.metrics.pairwise import cosine_similarity\n",
    "\n",
    "import sys\n",
    "sys.path.insert(0, '/home/bettyld/PJ/Documents/NLP_PJ/nlp_recommend')\n",
    "from nlp_recommend.utils.utils import rerank"
   ]
  },
  {
   "cell_type": "code",
   "execution_count": 30,
   "id": "36752841",
   "metadata": {},
   "outputs": [
    {
     "name": "stdout",
     "output_type": "stream",
     "text": [
      "number of sentences: 11483\n"
     ]
    },
    {
     "name": "stderr",
     "output_type": "stream",
     "text": [
      "/home/bettyld/PJ/Documents/NLP_PJ/env/lib/python3.8/site-packages/pandas/core/frame.py:3607: SettingWithCopyWarning: \n",
      "A value is trying to be set on a copy of a slice from a DataFrame.\n",
      "Try using .loc[row_indexer,col_indexer] = value instead\n",
      "\n",
      "See the caveats in the documentation: https://pandas.pydata.org/pandas-docs/stable/user_guide/indexing.html#returning-a-view-versus-a-copy\n",
      "  self._set_item(key, value)\n"
     ]
    },
    {
     "data": {
      "text/html": [
       "<div>\n",
       "<style scoped>\n",
       "    .dataframe tbody tr th:only-of-type {\n",
       "        vertical-align: middle;\n",
       "    }\n",
       "\n",
       "    .dataframe tbody tr th {\n",
       "        vertical-align: top;\n",
       "    }\n",
       "\n",
       "    .dataframe thead th {\n",
       "        text-align: right;\n",
       "    }\n",
       "</style>\n",
       "<table border=\"1\" class=\"dataframe\">\n",
       "  <thead>\n",
       "    <tr style=\"text-align: right;\">\n",
       "      <th></th>\n",
       "      <th>sentence</th>\n",
       "      <th>author</th>\n",
       "      <th>title</th>\n",
       "      <th>tok_lem_sentence</th>\n",
       "      <th>clean_sentence</th>\n",
       "    </tr>\n",
       "    <tr>\n",
       "      <th>level_0</th>\n",
       "      <th></th>\n",
       "      <th></th>\n",
       "      <th></th>\n",
       "      <th></th>\n",
       "      <th></th>\n",
       "    </tr>\n",
       "  </thead>\n",
       "  <tbody>\n",
       "    <tr>\n",
       "      <th>523</th>\n",
       "      <td>For every little boy the father gets in the way</td>\n",
       "      <td>Jackson</td>\n",
       "      <td>Outwitting Our Nerves: A Primer of Psychotherapy</td>\n",
       "      <td>[every, little, boy, father, get, way]</td>\n",
       "      <td>for every little boy the father gets in the way</td>\n",
       "    </tr>\n",
       "    <tr>\n",
       "      <th>524</th>\n",
       "      <td>For every little girl the mother gets in the way</td>\n",
       "      <td>Jackson</td>\n",
       "      <td>Outwitting Our Nerves: A Primer of Psychotherapy</td>\n",
       "      <td>[every, little, girl, mother, get, way]</td>\n",
       "      <td>for every little girl the mother gets in the way</td>\n",
       "    </tr>\n",
       "    <tr>\n",
       "      <th>525</th>\n",
       "      <td>At one time or other there is likely to be a' \"period when this is resented with all the violence of a child's\" 'emotions</td>\n",
       "      <td>Jackson</td>\n",
       "      <td>Outwitting Our Nerves: A Primer of Psychotherapy</td>\n",
       "      <td>[one, time, likely, period, resented, violence, child, emotion]</td>\n",
       "      <td>at one time or other there is likely to be a   period when this is resented with all the violence of a child    emotions</td>\n",
       "    </tr>\n",
       "    <tr>\n",
       "      <th>526</th>\n",
       "      <td>It is likely to be very soon repressed and succeeded by a real affection which lasts through life</td>\n",
       "      <td>Jackson</td>\n",
       "      <td>Outwitting Our Nerves: A Primer of Psychotherapy</td>\n",
       "      <td>[likely, soon, repressed, succeeded, real, affection, last, life]</td>\n",
       "      <td>it is likely to be very soon repressed and succeeded by a real affection which lasts through life</td>\n",
       "    </tr>\n",
       "    <tr>\n",
       "      <th>528</th>\n",
       "      <td>Jealousy is very often united with the natural rebellion of a child against authority</td>\n",
       "      <td>Jackson</td>\n",
       "      <td>Outwitting Our Nerves: A Primer of Psychotherapy</td>\n",
       "      <td>[jealousy, often, united, natural, rebellion, child, authority]</td>\n",
       "      <td>jealousy is very often united with the natural rebellion of a child against authority</td>\n",
       "    </tr>\n",
       "  </tbody>\n",
       "</table>\n",
       "</div>"
      ],
      "text/plain": [
       "                                                                                                                          sentence  \\\n",
       "level_0                                                                                                                              \n",
       "523                                                                                For every little boy the father gets in the way   \n",
       "524                                                                               For every little girl the mother gets in the way   \n",
       "525      At one time or other there is likely to be a' \"period when this is resented with all the violence of a child's\" 'emotions   \n",
       "526                              It is likely to be very soon repressed and succeeded by a real affection which lasts through life   \n",
       "528                                          Jealousy is very often united with the natural rebellion of a child against authority   \n",
       "\n",
       "          author                                             title  \\\n",
       "level_0                                                              \n",
       "523      Jackson  Outwitting Our Nerves: A Primer of Psychotherapy   \n",
       "524      Jackson  Outwitting Our Nerves: A Primer of Psychotherapy   \n",
       "525      Jackson  Outwitting Our Nerves: A Primer of Psychotherapy   \n",
       "526      Jackson  Outwitting Our Nerves: A Primer of Psychotherapy   \n",
       "528      Jackson  Outwitting Our Nerves: A Primer of Psychotherapy   \n",
       "\n",
       "                                                          tok_lem_sentence  \\\n",
       "level_0                                                                      \n",
       "523                                 [every, little, boy, father, get, way]   \n",
       "524                                [every, little, girl, mother, get, way]   \n",
       "525        [one, time, likely, period, resented, violence, child, emotion]   \n",
       "526      [likely, soon, repressed, succeeded, real, affection, last, life]   \n",
       "528        [jealousy, often, united, natural, rebellion, child, authority]   \n",
       "\n",
       "                                                                                                                   clean_sentence  \n",
       "level_0                                                                                                                            \n",
       "523                                                                               for every little boy the father gets in the way  \n",
       "524                                                                              for every little girl the mother gets in the way  \n",
       "525      at one time or other there is likely to be a   period when this is resented with all the violence of a child    emotions  \n",
       "526                             it is likely to be very soon repressed and succeeded by a real affection which lasts through life  \n",
       "528                                         jealousy is very often united with the natural rebellion of a child against authority  "
      ]
     },
     "execution_count": 30,
     "metadata": {},
     "output_type": "execute_result"
    }
   ],
   "source": [
    "from nlp_recommend import LoadData, clean_text\n",
    "\n",
    "DATASET = 'psychology'\n",
    "\n",
    "pd.options.display.max_rows = 1000\n",
    "pd.options.display.max_colwidth = 500\n",
    "\n",
    "# corpus = LoadData(dataset=DATASET,random=False, remove_numbered_rows=True, cache=False)\n",
    "corpus = LoadData(dataset=DATASET, cache=True) \n",
    "philo_df = corpus.corpus_df\n",
    "\n",
    "philo_df = philo_df[['sentence', 'author', 'title', 'tok_lem_sentence']]\n",
    "philo_df['clean_sentence'] = philo_df['sentence'].apply(lambda x: clean_text(x, only_symbols=True))\n",
    "\n",
    "print('number of sentences:', len(philo_df))\n",
    "philo_df.head()"
   ]
  },
  {
   "cell_type": "code",
   "execution_count": 31,
   "id": "ed03aeb9",
   "metadata": {},
   "outputs": [
    {
     "name": "stdout",
     "output_type": "stream",
     "text": [
      "20 25\n"
     ]
    }
   ],
   "source": [
    "print(len(philo_df.author.unique()), len(philo_df.title.unique()))"
   ]
  },
  {
   "cell_type": "code",
   "execution_count": 32,
   "id": "45cb99d3",
   "metadata": {},
   "outputs": [],
   "source": [
    "philo_df[['title', 'author']].drop_duplicates().sort_values(by=['author']).to_csv(f'{DATASET}_author_title.csv')"
   ]
  }
 ],
 "metadata": {
  "kernelspec": {
   "display_name": "env",
   "language": "python",
   "name": "env"
  },
  "language_info": {
   "codemirror_mode": {
    "name": "ipython",
    "version": 3
   },
   "file_extension": ".py",
   "mimetype": "text/x-python",
   "name": "python",
   "nbconvert_exporter": "python",
   "pygments_lexer": "ipython3",
   "version": "3.8.8"
  }
 },
 "nbformat": 4,
 "nbformat_minor": 5
}
