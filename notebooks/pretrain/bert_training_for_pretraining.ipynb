{
 "cells": [
  {
   "cell_type": "markdown",
   "id": "3bc97d40",
   "metadata": {},
   "source": [
    "# We pre-train BERT on domain specific area (litterature)\n",
    "\n",
    "Fine-tuning the core leverages two tasks:\n",
    "- Next Sentence Prediction\n",
    "- Masked Language Modeling\n",
    "\n",
    "## 1. NSP\n",
    "[CLS] BERT output token is feeded to a dense NN layer that output two nodes that pass through a softmax.\n",
    "\n",
    "Our dataset is a paired dataset\n",
    "\n",
    "## 2. MLM\n",
    "\n",
    "We mask 15% of one document, and we try to predict every tokens from the document. \n",
    "The MLM head is a feed forward NN that output logit of dimension (vocab_size)"
   ]
  },
  {
   "cell_type": "code",
   "execution_count": null,
   "id": "bfa2d962",
   "metadata": {},
   "outputs": [],
   "source": [
    "import sys\n",
    "sys.path.insert(0, '/home/bettyld/PJ/Documents/NLP_PJ/nlp_recommend')\n",
    "\n",
    "from nlp_recommend.utils.load_data import LoadData\n",
    "# corpus = LoadData(random=True, max_prcs=6, char_max=15)\n",
    "# corpus.load_and_clean()\n",
    "corpus = LoadData(cache=True, dataset='psychology')\n",
    "corpus_philo = LoadData(cache=True, dataset='philosophy')\n",
    "corpus.corpus_df = corpus.corpus_df.append(corpus_philo.corpus_df)"
   ]
  },
  {
   "cell_type": "code",
   "execution_count": null,
   "id": "d3fe975d",
   "metadata": {},
   "outputs": [],
   "source": [
    "import pandas as pd\n",
    "\n",
    "df = pd.read_csv(corpus.data_path, lineterminator='\\n')\n",
    "df.loc[:10]"
   ]
  },
  {
   "cell_type": "markdown",
   "id": "00a8363f",
   "metadata": {},
   "source": [
    "# For each author we want a pair of sentence"
   ]
  },
  {
   "cell_type": "code",
   "execution_count": 3,
   "id": "cd483f1d",
   "metadata": {},
   "outputs": [],
   "source": [
    "# Create a NSP dataset 50% random pair, 50% correct pairs"
   ]
  },
  {
   "cell_type": "code",
   "execution_count": 4,
   "id": "233907dd",
   "metadata": {},
   "outputs": [
    {
     "data": {
      "text/html": [
       "<div>\n",
       "<style scoped>\n",
       "    .dataframe tbody tr th:only-of-type {\n",
       "        vertical-align: middle;\n",
       "    }\n",
       "\n",
       "    .dataframe tbody tr th {\n",
       "        vertical-align: top;\n",
       "    }\n",
       "\n",
       "    .dataframe thead th {\n",
       "        text-align: right;\n",
       "    }\n",
       "</style>\n",
       "<table border=\"1\" class=\"dataframe\">\n",
       "  <thead>\n",
       "    <tr style=\"text-align: right;\">\n",
       "      <th></th>\n",
       "      <th>title</th>\n",
       "      <th>author</th>\n",
       "      <th>sentence</th>\n",
       "      <th>label</th>\n",
       "    </tr>\n",
       "  </thead>\n",
       "  <tbody>\n",
       "    <tr>\n",
       "      <th>0</th>\n",
       "      <td>Dream Psychology: Psychoanalysis for Beginners</td>\n",
       "      <td>NaN</td>\n",
       "      <td>[Clearly these desires and needs which agitate...</td>\n",
       "      <td>0.0</td>\n",
       "    </tr>\n",
       "    <tr>\n",
       "      <th>1</th>\n",
       "      <td>Dreams</td>\n",
       "      <td>NaN</td>\n",
       "      <td>[On the other hand, our nocturnal sensations r...</td>\n",
       "      <td>0.0</td>\n",
       "    </tr>\n",
       "    <tr>\n",
       "      <th>2</th>\n",
       "      <td>Memoirs of Extraordinary Popular Delusions — V...</td>\n",
       "      <td>NaN</td>\n",
       "      <td>[Every other point of belief was in dispute bu...</td>\n",
       "      <td>0.0</td>\n",
       "    </tr>\n",
       "    <tr>\n",
       "      <th>3</th>\n",
       "      <td>Three Contributions to the Theory of Sex</td>\n",
       "      <td>NaN</td>\n",
       "      <td>[A good part of the symptomatology of the neur...</td>\n",
       "      <td>0.0</td>\n",
       "    </tr>\n",
       "    <tr>\n",
       "      <th>4</th>\n",
       "      <td>Criminal Psychology: A Manual for Judges, Prac...</td>\n",
       "      <td>NaN</td>\n",
       "      <td>[These are first of all purely physiological s...</td>\n",
       "      <td>0.0</td>\n",
       "    </tr>\n",
       "    <tr>\n",
       "      <th>...</th>\n",
       "      <td>...</td>\n",
       "      <td>...</td>\n",
       "      <td>...</td>\n",
       "      <td>...</td>\n",
       "    </tr>\n",
       "    <tr>\n",
       "      <th>297</th>\n",
       "      <td>Criminal Psychology: A Manual for Judges, Prac...</td>\n",
       "      <td>NaN</td>\n",
       "      <td>[I cannot omit recalling in this place a case ...</td>\n",
       "      <td>0.0</td>\n",
       "    </tr>\n",
       "    <tr>\n",
       "      <th>298</th>\n",
       "      <td>Unconscious Memory</td>\n",
       "      <td>NaN</td>\n",
       "      <td>[ it is in respect of these instincts therefor...</td>\n",
       "      <td>0.0</td>\n",
       "    </tr>\n",
       "    <tr>\n",
       "      <th>299</th>\n",
       "      <td>Memoirs of Extraordinary Popular Delusions — V...</td>\n",
       "      <td>NaN</td>\n",
       "      <td>[     cooped up and caged then shall the lion ...</td>\n",
       "      <td>0.0</td>\n",
       "    </tr>\n",
       "    <tr>\n",
       "      <th>300</th>\n",
       "      <td>Criminal Psychology: A Manual for Judges, Prac...</td>\n",
       "      <td>NaN</td>\n",
       "      <td>[At this time then the danger that the young g...</td>\n",
       "      <td>0.0</td>\n",
       "    </tr>\n",
       "    <tr>\n",
       "      <th>301</th>\n",
       "      <td>The Nervous Child</td>\n",
       "      <td>NaN</td>\n",
       "      <td>[She will do better to approach him quietly te...</td>\n",
       "      <td>0.0</td>\n",
       "    </tr>\n",
       "  </tbody>\n",
       "</table>\n",
       "<p>302 rows × 4 columns</p>\n",
       "</div>"
      ],
      "text/plain": [
       "                                                 title author  \\\n",
       "0       Dream Psychology: Psychoanalysis for Beginners    NaN   \n",
       "1                                               Dreams    NaN   \n",
       "2    Memoirs of Extraordinary Popular Delusions — V...    NaN   \n",
       "3             Three Contributions to the Theory of Sex    NaN   \n",
       "4    Criminal Psychology: A Manual for Judges, Prac...    NaN   \n",
       "..                                                 ...    ...   \n",
       "297  Criminal Psychology: A Manual for Judges, Prac...    NaN   \n",
       "298                                 Unconscious Memory    NaN   \n",
       "299  Memoirs of Extraordinary Popular Delusions — V...    NaN   \n",
       "300  Criminal Psychology: A Manual for Judges, Prac...    NaN   \n",
       "301                                  The Nervous Child    NaN   \n",
       "\n",
       "                                              sentence  label  \n",
       "0    [Clearly these desires and needs which agitate...    0.0  \n",
       "1    [On the other hand, our nocturnal sensations r...    0.0  \n",
       "2    [Every other point of belief was in dispute bu...    0.0  \n",
       "3    [A good part of the symptomatology of the neur...    0.0  \n",
       "4    [These are first of all purely physiological s...    0.0  \n",
       "..                                                 ...    ...  \n",
       "297  [I cannot omit recalling in this place a case ...    0.0  \n",
       "298  [ it is in respect of these instincts therefor...    0.0  \n",
       "299  [     cooped up and caged then shall the lion ...    0.0  \n",
       "300  [At this time then the danger that the young g...    0.0  \n",
       "301  [She will do better to approach him quietly te...    0.0  \n",
       "\n",
       "[302 rows x 4 columns]"
      ]
     },
     "execution_count": 4,
     "metadata": {},
     "output_type": "execute_result"
    }
   ],
   "source": [
    "import random\n",
    "\n",
    "is_next_pair_df = pd.DataFrame(columns=df.columns)\n",
    "\n",
    "while len(is_next_pair_df) < len(df)//100:\n",
    "    # Take a random index\n",
    "    i = random.randint(0, len(df)-1)\n",
    "    auth = df.loc[i].author\n",
    "    title = df.loc[i].title\n",
    "    next_auth = df.loc[i+1].author\n",
    "    if auth == next_auth:\n",
    "        pair = [df.loc[i].sentence, df.loc[i+1].sentence]\n",
    "        is_next_pair_df = is_next_pair_df.append(pd.DataFrame({'sentence':[pair], 'label': 0, 'title': title}),\n",
    "                                     ignore_index=True)\n",
    "is_next_pair_df"
   ]
  },
  {
   "cell_type": "code",
   "execution_count": 5,
   "id": "e6bf2e94",
   "metadata": {},
   "outputs": [
    {
     "data": {
      "text/plain": [
       "['Clearly these desires and needs which agitate him are hindrances to sleep.\\' \"every one knows the charming story of the bad boy (baldwin groller\\'s)\" \\'who awoke at night bellowing out \"_i want the rhinoceros_.\" a really good boy instead of bellowing would have _dreamt_ that he was playing with the rhinoceros',\n",
       " 'Because the dream which realizes his desire is believed during sleep it removes the desire and makes sleep possible']"
      ]
     },
     "execution_count": 5,
     "metadata": {},
     "output_type": "execute_result"
    }
   ],
   "source": [
    "is_next_pair_df.sentence[0]"
   ]
  },
  {
   "cell_type": "code",
   "execution_count": 6,
   "id": "7d52fd14",
   "metadata": {},
   "outputs": [
    {
     "data": {
      "text/html": [
       "<div>\n",
       "<style scoped>\n",
       "    .dataframe tbody tr th:only-of-type {\n",
       "        vertical-align: middle;\n",
       "    }\n",
       "\n",
       "    .dataframe tbody tr th {\n",
       "        vertical-align: top;\n",
       "    }\n",
       "\n",
       "    .dataframe thead th {\n",
       "        text-align: right;\n",
       "    }\n",
       "</style>\n",
       "<table border=\"1\" class=\"dataframe\">\n",
       "  <thead>\n",
       "    <tr style=\"text-align: right;\">\n",
       "      <th></th>\n",
       "      <th>title</th>\n",
       "      <th>author</th>\n",
       "      <th>sentence</th>\n",
       "      <th>label</th>\n",
       "    </tr>\n",
       "  </thead>\n",
       "  <tbody>\n",
       "    <tr>\n",
       "      <th>0</th>\n",
       "      <td>Criminal Psychology: A Manual for Judges, Prac...</td>\n",
       "      <td>NaN</td>\n",
       "      <td>[Contrast (because every image involves opposi...</td>\n",
       "      <td>1.0</td>\n",
       "    </tr>\n",
       "    <tr>\n",
       "      <th>1</th>\n",
       "      <td>The Science of Human Nature: A Psychology for ...</td>\n",
       "      <td>NaN</td>\n",
       "      <td>[(3) parents must help children to plan their ...</td>\n",
       "      <td>1.0</td>\n",
       "    </tr>\n",
       "    <tr>\n",
       "      <th>2</th>\n",
       "      <td>A Study of Association in Insanity</td>\n",
       "      <td>NaN</td>\n",
       "      <td>[Citizen--tramp........19 foot--arm..............</td>\n",
       "      <td>1.0</td>\n",
       "    </tr>\n",
       "    <tr>\n",
       "      <th>3</th>\n",
       "      <td>Psychotherapy</td>\n",
       "      <td>NaN</td>\n",
       "      <td>[First we have everywhere with us the fact tha...</td>\n",
       "      <td>1.0</td>\n",
       "    </tr>\n",
       "    <tr>\n",
       "      <th>4</th>\n",
       "      <td>Psychotherapy</td>\n",
       "      <td>NaN</td>\n",
       "      <td>[The work which the scholar undertakes should ...</td>\n",
       "      <td>1.0</td>\n",
       "    </tr>\n",
       "    <tr>\n",
       "      <th>...</th>\n",
       "      <td>...</td>\n",
       "      <td>...</td>\n",
       "      <td>...</td>\n",
       "      <td>...</td>\n",
       "    </tr>\n",
       "    <tr>\n",
       "      <th>297</th>\n",
       "      <td>Our Nervous Friends — Illustrating the Mastery...</td>\n",
       "      <td>NaN</td>\n",
       "      <td>[Jan, the valet never argued urged suggested--...</td>\n",
       "      <td>1.0</td>\n",
       "    </tr>\n",
       "    <tr>\n",
       "      <th>298</th>\n",
       "      <td>Unconscious Memory</td>\n",
       "      <td>NaN</td>\n",
       "      <td>[ at this time i had a visit from a friend who...</td>\n",
       "      <td>1.0</td>\n",
       "    </tr>\n",
       "    <tr>\n",
       "      <th>299</th>\n",
       "      <td>Criminal Psychology: A Manual for Judges, Prac...</td>\n",
       "      <td>NaN</td>\n",
       "      <td>[If we pursue our tasks earnestly we draw from...</td>\n",
       "      <td>1.0</td>\n",
       "    </tr>\n",
       "    <tr>\n",
       "      <th>300</th>\n",
       "      <td>Unconscious Memory</td>\n",
       "      <td>NaN</td>\n",
       "      <td>[If then the student of nervous physiology tak...</td>\n",
       "      <td>1.0</td>\n",
       "    </tr>\n",
       "    <tr>\n",
       "      <th>301</th>\n",
       "      <td>Pathology of Lying, Accusation, and Swindling:...</td>\n",
       "      <td>NaN</td>\n",
       "      <td>[ (inez has told various stories about early f...</td>\n",
       "      <td>1.0</td>\n",
       "    </tr>\n",
       "  </tbody>\n",
       "</table>\n",
       "<p>302 rows × 4 columns</p>\n",
       "</div>"
      ],
      "text/plain": [
       "                                                 title author  \\\n",
       "0    Criminal Psychology: A Manual for Judges, Prac...    NaN   \n",
       "1    The Science of Human Nature: A Psychology for ...    NaN   \n",
       "2                   A Study of Association in Insanity    NaN   \n",
       "3                                        Psychotherapy    NaN   \n",
       "4                                        Psychotherapy    NaN   \n",
       "..                                                 ...    ...   \n",
       "297  Our Nervous Friends — Illustrating the Mastery...    NaN   \n",
       "298                                 Unconscious Memory    NaN   \n",
       "299  Criminal Psychology: A Manual for Judges, Prac...    NaN   \n",
       "300                                 Unconscious Memory    NaN   \n",
       "301  Pathology of Lying, Accusation, and Swindling:...    NaN   \n",
       "\n",
       "                                              sentence  label  \n",
       "0    [Contrast (because every image involves opposi...    1.0  \n",
       "1    [(3) parents must help children to plan their ...    1.0  \n",
       "2    [Citizen--tramp........19 foot--arm..............    1.0  \n",
       "3    [First we have everywhere with us the fact tha...    1.0  \n",
       "4    [The work which the scholar undertakes should ...    1.0  \n",
       "..                                                 ...    ...  \n",
       "297  [Jan, the valet never argued urged suggested--...    1.0  \n",
       "298  [ at this time i had a visit from a friend who...    1.0  \n",
       "299  [If we pursue our tasks earnestly we draw from...    1.0  \n",
       "300  [If then the student of nervous physiology tak...    1.0  \n",
       "301  [ (inez has told various stories about early f...    1.0  \n",
       "\n",
       "[302 rows x 4 columns]"
      ]
     },
     "execution_count": 6,
     "metadata": {},
     "output_type": "execute_result"
    }
   ],
   "source": [
    "is_not_next_pair_df = pd.DataFrame(columns=df.columns)\n",
    "\n",
    "while len(is_not_next_pair_df) < len(df)//100:\n",
    "    # Take a random index\n",
    "    i = random.randint(0, len(df)-1)\n",
    "    i_nxt = random.randint(0, len(df)-1)\n",
    "    auth = df.loc[i].author\n",
    "    title = df.loc[i].title\n",
    "    next_auth = df.loc[i_nxt].author\n",
    "    if not (auth == next_auth):\n",
    "        pair = [df.loc[i].sentence, df.loc[i_nxt].sentence]\n",
    "        is_not_next_pair_df = is_not_next_pair_df.append(pd.DataFrame({'sentence':[pair], 'label': 1, 'title': title}),\n",
    "                                     ignore_index=True)\n",
    "is_not_next_pair_df"
   ]
  },
  {
   "cell_type": "code",
   "execution_count": 7,
   "id": "198ade7e",
   "metadata": {},
   "outputs": [
    {
     "data": {
      "text/html": [
       "<div>\n",
       "<style scoped>\n",
       "    .dataframe tbody tr th:only-of-type {\n",
       "        vertical-align: middle;\n",
       "    }\n",
       "\n",
       "    .dataframe tbody tr th {\n",
       "        vertical-align: top;\n",
       "    }\n",
       "\n",
       "    .dataframe thead th {\n",
       "        text-align: right;\n",
       "    }\n",
       "</style>\n",
       "<table border=\"1\" class=\"dataframe\">\n",
       "  <thead>\n",
       "    <tr style=\"text-align: right;\">\n",
       "      <th></th>\n",
       "      <th>title</th>\n",
       "      <th>author</th>\n",
       "      <th>sentence</th>\n",
       "      <th>label</th>\n",
       "    </tr>\n",
       "  </thead>\n",
       "  <tbody>\n",
       "    <tr>\n",
       "      <th>0</th>\n",
       "      <td>Criminal Psychology: A Manual for Judges, Prac...</td>\n",
       "      <td>NaN</td>\n",
       "      <td>[Contrast (because every image involves opposi...</td>\n",
       "      <td>1.0</td>\n",
       "    </tr>\n",
       "    <tr>\n",
       "      <th>1</th>\n",
       "      <td>The Science of Human Nature: A Psychology for ...</td>\n",
       "      <td>NaN</td>\n",
       "      <td>[(3) parents must help children to plan their ...</td>\n",
       "      <td>1.0</td>\n",
       "    </tr>\n",
       "    <tr>\n",
       "      <th>2</th>\n",
       "      <td>A Study of Association in Insanity</td>\n",
       "      <td>NaN</td>\n",
       "      <td>[Citizen--tramp........19 foot--arm..............</td>\n",
       "      <td>1.0</td>\n",
       "    </tr>\n",
       "    <tr>\n",
       "      <th>3</th>\n",
       "      <td>Psychotherapy</td>\n",
       "      <td>NaN</td>\n",
       "      <td>[First we have everywhere with us the fact tha...</td>\n",
       "      <td>1.0</td>\n",
       "    </tr>\n",
       "    <tr>\n",
       "      <th>4</th>\n",
       "      <td>Psychotherapy</td>\n",
       "      <td>NaN</td>\n",
       "      <td>[The work which the scholar undertakes should ...</td>\n",
       "      <td>1.0</td>\n",
       "    </tr>\n",
       "    <tr>\n",
       "      <th>...</th>\n",
       "      <td>...</td>\n",
       "      <td>...</td>\n",
       "      <td>...</td>\n",
       "      <td>...</td>\n",
       "    </tr>\n",
       "    <tr>\n",
       "      <th>297</th>\n",
       "      <td>Our Nervous Friends — Illustrating the Mastery...</td>\n",
       "      <td>NaN</td>\n",
       "      <td>[Jan, the valet never argued urged suggested--...</td>\n",
       "      <td>1.0</td>\n",
       "    </tr>\n",
       "    <tr>\n",
       "      <th>298</th>\n",
       "      <td>Unconscious Memory</td>\n",
       "      <td>NaN</td>\n",
       "      <td>[ at this time i had a visit from a friend who...</td>\n",
       "      <td>1.0</td>\n",
       "    </tr>\n",
       "    <tr>\n",
       "      <th>299</th>\n",
       "      <td>Criminal Psychology: A Manual for Judges, Prac...</td>\n",
       "      <td>NaN</td>\n",
       "      <td>[If we pursue our tasks earnestly we draw from...</td>\n",
       "      <td>1.0</td>\n",
       "    </tr>\n",
       "    <tr>\n",
       "      <th>300</th>\n",
       "      <td>Unconscious Memory</td>\n",
       "      <td>NaN</td>\n",
       "      <td>[If then the student of nervous physiology tak...</td>\n",
       "      <td>1.0</td>\n",
       "    </tr>\n",
       "    <tr>\n",
       "      <th>301</th>\n",
       "      <td>Pathology of Lying, Accusation, and Swindling:...</td>\n",
       "      <td>NaN</td>\n",
       "      <td>[ (inez has told various stories about early f...</td>\n",
       "      <td>1.0</td>\n",
       "    </tr>\n",
       "  </tbody>\n",
       "</table>\n",
       "<p>302 rows × 4 columns</p>\n",
       "</div>"
      ],
      "text/plain": [
       "                                                 title author  \\\n",
       "0    Criminal Psychology: A Manual for Judges, Prac...    NaN   \n",
       "1    The Science of Human Nature: A Psychology for ...    NaN   \n",
       "2                   A Study of Association in Insanity    NaN   \n",
       "3                                        Psychotherapy    NaN   \n",
       "4                                        Psychotherapy    NaN   \n",
       "..                                                 ...    ...   \n",
       "297  Our Nervous Friends — Illustrating the Mastery...    NaN   \n",
       "298                                 Unconscious Memory    NaN   \n",
       "299  Criminal Psychology: A Manual for Judges, Prac...    NaN   \n",
       "300                                 Unconscious Memory    NaN   \n",
       "301  Pathology of Lying, Accusation, and Swindling:...    NaN   \n",
       "\n",
       "                                              sentence  label  \n",
       "0    [Contrast (because every image involves opposi...    1.0  \n",
       "1    [(3) parents must help children to plan their ...    1.0  \n",
       "2    [Citizen--tramp........19 foot--arm..............    1.0  \n",
       "3    [First we have everywhere with us the fact tha...    1.0  \n",
       "4    [The work which the scholar undertakes should ...    1.0  \n",
       "..                                                 ...    ...  \n",
       "297  [Jan, the valet never argued urged suggested--...    1.0  \n",
       "298  [ at this time i had a visit from a friend who...    1.0  \n",
       "299  [If we pursue our tasks earnestly we draw from...    1.0  \n",
       "300  [If then the student of nervous physiology tak...    1.0  \n",
       "301  [ (inez has told various stories about early f...    1.0  \n",
       "\n",
       "[302 rows x 4 columns]"
      ]
     },
     "execution_count": 7,
     "metadata": {},
     "output_type": "execute_result"
    }
   ],
   "source": [
    "is_not_next_pair_df"
   ]
  },
  {
   "cell_type": "code",
   "execution_count": 8,
   "id": "84743728",
   "metadata": {},
   "outputs": [],
   "source": [
    "# Now we want to create a dataset where isNextSentence (label:0) and IsNotNextSentence (label:1) is 50/50\n",
    "sentence_a, sentence_b, labels_nsp = [], [], []\n",
    "for i, sent, in enumerate(is_not_next_pair_df.sentence.values):\n",
    "    if random.random() > 0.5:\n",
    "        #This is next sentence\n",
    "        sentence_a.append(is_next_pair_df.iloc[i].sentence[0])\n",
    "        sentence_b.append(is_next_pair_df.iloc[i].sentence[1])\n",
    "        labels_nsp.append(0)\n",
    "    else:\n",
    "        #This is next sentence\n",
    "        sentence_a.append(is_not_next_pair_df.iloc[i].sentence[0])\n",
    "        sentence_b.append(is_not_next_pair_df.iloc[i].sentence[1])\n",
    "        labels_nsp.append(1)"
   ]
  },
  {
   "cell_type": "code",
   "execution_count": 9,
   "id": "9e3ca3cf",
   "metadata": {},
   "outputs": [
    {
     "name": "stdout",
     "output_type": "stream",
     "text": [
      "a -- Clearly these desires and needs which agitate him are hindrances to sleep.' \"every one knows the charming story of the bad boy (baldwin groller's)\" 'who awoke at night bellowing out \"_i want the rhinoceros_.\" a really good boy instead of bellowing would have _dreamt_ that he was playing with the rhinoceros\n",
      "b -- Because the dream which realizes his desire is believed during sleep it removes the desire and makes sleep possible\n",
      "labels -- 0\n",
      "a -- (3) parents must help children to plan their lives in general and in detail; _i.e._ in the sense of determining the ideals and habits that will be necessary for those lives\n",
      "b -- During the progress of this famous bubble england presented a singular spectacle\n",
      "labels -- 1\n",
      "a -- Every other point of belief was in dispute but that was considered by every sect to be as well established as the authenticity of the scriptures or the existence of a god\n",
      "b -- But at this early period of the epidemic the persecutions were directed by the heads of the catholic church\n",
      "labels -- 0\n"
     ]
    }
   ],
   "source": [
    "for i in range(3):\n",
    "    print('a --', sentence_a[i])\n",
    "    print('b --', sentence_b[i])\n",
    "    print('labels --', labels_nsp[i])"
   ]
  },
  {
   "cell_type": "code",
   "execution_count": 10,
   "id": "f9fc56f8",
   "metadata": {},
   "outputs": [
    {
     "name": "stdout",
     "output_type": "stream",
     "text": [
      "2162\n"
     ]
    },
    {
     "data": {
      "image/png": "[encoded data removed]",
      "text/plain": [
       "<Figure size 432x288 with 1 Axes>"
      ]
     },
     "metadata": {
      "needs_background": "light"
     },
     "output_type": "display_data"
    }
   ],
   "source": [
    "import matplotlib.pyplot as plt\n",
    "\n",
    "# Max string lenght\n",
    "\n",
    "plt.hist(df.sentence.map(len))\n",
    "print(df.sentence.map(len).max())"
   ]
  },
  {
   "cell_type": "code",
   "execution_count": 11,
   "id": "f05ad7b7",
   "metadata": {},
   "outputs": [],
   "source": [
    "sentences = df.sentence.values"
   ]
  },
  {
   "cell_type": "code",
   "execution_count": 12,
   "id": "96be12de",
   "metadata": {},
   "outputs": [
    {
     "name": "stdout",
     "output_type": "stream",
     "text": [
      "Loading BERT tokenizer...\n"
     ]
    }
   ],
   "source": [
    "from transformers import BertTokenizer\n",
    "\n",
    "# Load the BERT tokenizer.\n",
    "model_name = 'sentence-transformers/paraphrase-mpnet-base-v2'\n",
    "\n",
    "print('Loading BERT tokenizer...')\n",
    "tokenizer = BertTokenizer.from_pretrained(model_name, do_lower_case=True, sep_token='[SEP]', pad_token='[PAD]', cls_token='[CLS]')"
   ]
  },
  {
   "cell_type": "code",
   "execution_count": 13,
   "id": "c7ebc2dd",
   "metadata": {},
   "outputs": [
    {
     "name": "stdout",
     "output_type": "stream",
     "text": [
      " Original:  Clearly these desires and needs which agitate him are hindrances to sleep.' \"every one knows the charming story of the bad boy (baldwin groller's)\" 'who awoke at night bellowing out \"_i want the rhinoceros_.\" a really good boy instead of bellowing would have _dreamt_ that he was playing with the rhinoceros\n",
      "Tokenized:  ['clearly', 'these', 'desires', 'and', 'needs', 'which', 'ag', '##itate', 'him', 'are', 'hind', '##rance', '##s', 'to', 'sleep', '.', \"'\", '\"', 'every', 'one', 'knows', 'the', 'charming', 'story', 'of', 'the', 'bad', 'boy', '(', 'baldwin', 'gr', '##oll', '##er', \"'\", 's', ')', '\"', \"'\", 'who', 'awoke', 'at', 'night', 'bell', '##owing', 'out', '\"', '_', 'i', 'want', 'the', 'rhino', '##cer', '##os', '_', '.', '\"', 'a', 'really', 'good', 'boy', 'instead', 'of', 'bell', '##owing', 'would', 'have', '_', 'dream', '##t', '_', 'that', 'he', 'was', 'playing', 'with', 'the', 'rhino', '##cer', '##os']\n",
      "Token IDs:  [4419, 2126, 14718, 2002, 3795, 2033, 12947, 17574, 2036, 2028, 17670, 21625, 2019, 2004, 3641, 1016, 1009, 1004, 2300, 2032, 4286, 2000, 11955, 2470, 2001, 2000, 2923, 2883, 1010, 10974, 24669, 14515, 2125, 1009, 1059, 1011, 1004, 1009, 2044, 19183, 2016, 2309, 4334, 14142, 2045, 1004, 1039, 1049, 2219, 2000, 24095, 17123, 2895, 1039, 1016, 1004, 1041, 2432, 2208, 2883, 2616, 2001, 4334, 14142, 2056, 2035, 1039, 3963, 2106, 1039, 2012, 2006, 2005, 2656, 2011, 2000, 24095, 17123, 2895]\n"
     ]
    }
   ],
   "source": [
    "# Print the original sentence.\n",
    "print(' Original: ',  sentence_a[0])\n",
    "\n",
    "# Print the sentence split into tokens.\n",
    "print('Tokenized: ', tokenizer.tokenize(sentence_a[0]))\n",
    "\n",
    "# Print the sentence mapped to token ids.\n",
    "print('Token IDs: ', tokenizer.convert_tokens_to_ids(tokenizer.tokenize(sentence_a[0])))"
   ]
  },
  {
   "cell_type": "code",
   "execution_count": 14,
   "id": "e4a542e3",
   "metadata": {},
   "outputs": [
    {
     "data": {
      "text/plain": [
       "{'input_ids': tensor([[    0,  4419,  2126, 14718,  2002,  3795,  2033, 12947, 17574,  2036,\n",
       "          2028, 17670, 21625,  2019,  2004,  3641,  1016,  1009,  1004,  2300,\n",
       "          2032,  4286,  2000, 11955,  2470,  2001,  2000,  2923,  2883,  1010,\n",
       "         10974, 24669, 14515,  2125,  1009,  1059,  1011,  1004,  1009,  2044,\n",
       "         19183,  2016,  2309,  4334, 14142,  2045,  1004,  1039,  1049,  2219,\n",
       "          2000, 24095, 17123,  2895,  1039,  1016,  1004,  1041,  2432,  2208,\n",
       "          2883,  2616,  2001,  4334, 14142,  2056,  2035,  1039,  3963,  2106,\n",
       "          1039,  2012,  2006,  2005,  2656,  2011,  2000, 24095, 17123,  2895,\n",
       "             2,  2142,  2000,  3963,  2033, 10923,  2014,  4796,  2007,  3377,\n",
       "          2080,  3641,  2013, 20366,  2000,  4796,  2002,  3088,  3641,  2829,\n",
       "             2]]), 'token_type_ids': tensor([[0, 0, 0, 0, 0, 0, 0, 0, 0, 0, 0, 0, 0, 0, 0, 0, 0, 0, 0, 0, 0, 0, 0, 0,\n",
       "         0, 0, 0, 0, 0, 0, 0, 0, 0, 0, 0, 0, 0, 0, 0, 0, 0, 0, 0, 0, 0, 0, 0, 0,\n",
       "         0, 0, 0, 0, 0, 0, 0, 0, 0, 0, 0, 0, 0, 0, 0, 0, 0, 0, 0, 0, 0, 0, 0, 0,\n",
       "         0, 0, 0, 0, 0, 0, 0, 0, 0, 1, 1, 1, 1, 1, 1, 1, 1, 1, 1, 1, 1, 1, 1, 1,\n",
       "         1, 1, 1, 1, 1]]), 'attention_mask': tensor([[1, 1, 1, 1, 1, 1, 1, 1, 1, 1, 1, 1, 1, 1, 1, 1, 1, 1, 1, 1, 1, 1, 1, 1,\n",
       "         1, 1, 1, 1, 1, 1, 1, 1, 1, 1, 1, 1, 1, 1, 1, 1, 1, 1, 1, 1, 1, 1, 1, 1,\n",
       "         1, 1, 1, 1, 1, 1, 1, 1, 1, 1, 1, 1, 1, 1, 1, 1, 1, 1, 1, 1, 1, 1, 1, 1,\n",
       "         1, 1, 1, 1, 1, 1, 1, 1, 1, 1, 1, 1, 1, 1, 1, 1, 1, 1, 1, 1, 1, 1, 1, 1,\n",
       "         1, 1, 1, 1, 1]])}"
      ]
     },
     "execution_count": 14,
     "metadata": {},
     "output_type": "execute_result"
    }
   ],
   "source": [
    "# special input_ids are \n",
    "# 0 start sentence a [CLS]\n",
    "# 2 end of one sentence [SEP]\n",
    "# 1 padding [PAD]\n",
    "tokenizer(\n",
    "                        sentence_a[0], \n",
    "                        sentence_b[0], # Sentence to encode.\n",
    "                        add_special_tokens = True, # Add '[CLS]' and '[SEP]'\n",
    "                        max_length = 64,           # Pad & truncate all sentences.\n",
    "                        padding = 'max_length',\n",
    "                        return_attention_mask = True,   # Construct attn. masks.\n",
    "                        return_tensors = 'pt',     # Return pytorch tensors.\n",
    "                   )"
   ]
  },
  {
   "cell_type": "code",
   "execution_count": 15,
   "id": "cef89904",
   "metadata": {},
   "outputs": [
    {
     "data": {
      "text/plain": [
       "(302, 302)"
      ]
     },
     "execution_count": 15,
     "metadata": {},
     "output_type": "execute_result"
    }
   ],
   "source": [
    "len(is_next_pair_df.sentence.values), len(is_not_next_pair_df.sentence.values) "
   ]
  },
  {
   "cell_type": "code",
   "execution_count": 16,
   "id": "af2bde0a",
   "metadata": {},
   "outputs": [
    {
     "name": "stdout",
     "output_type": "stream",
     "text": [
      "Original:  Clearly these desires and needs which agitate him are hindrances to sleep.' \"every one knows the charming story of the bad boy (baldwin groller's)\" 'who awoke at night bellowing out \"_i want the rhinoceros_.\" a really good boy instead of bellowing would have _dreamt_ that he was playing with the rhinoceros Because the dream which realizes his desire is believed during sleep it removes the desire and makes sleep possible\n",
      "Token IDs: tensor([    0,  4419,  2126, 14718,  2002,  3795,  2033, 12947, 17574,  2036,\n",
      "         2028, 17670, 21625,  2019,  2004,  3641,  1016,  1009,  1004,  2300,\n",
      "         2032,  4286,  2000, 11955,  2470,  2001,  2000,  2923,  2883,  1010,\n",
      "        10974, 24669, 14515,  2125,  1009,  1059,  1011,  1004,  1009,  2044,\n",
      "        19183,  2016,  2309,     2,  2142,  2000,  3963,  2033, 10923,  2014,\n",
      "         4796,  2007,  3377,  2080,  3641,  2013, 20366,  2000,  4796,  2002,\n",
      "         3088,  3641,  2829,     2])\n"
     ]
    }
   ],
   "source": [
    "import torch\n",
    "import tqdm \n",
    "\n",
    "# Tokenize all of the sentences and map the tokens to thier word IDs.\n",
    "input_ids_list = []\n",
    "attention_masks = []\n",
    "token_type_ids = []\n",
    "\n",
    "# For every sentence...\n",
    "# `encode_plus` will:\n",
    "#   (1) Tokenize the sentence.\n",
    "#   (2) Prepend the `[CLS]` token to the start.\n",
    "#   (3) Append the `[SEP]` token to the end.\n",
    "#   (4) Map tokens to their IDs.\n",
    "#   (5) Pad or truncate the sentence to `max_length`\n",
    "#   (6) Create attention masks for [PAD] tokens.\n",
    "encoded_dict = tokenizer(\n",
    "                    sentence_a, \n",
    "                    sentence_b, # Sentence to encode.\n",
    "                    add_special_tokens = True, # Add '[CLS]' and '[SEP]'\n",
    "                    max_length = 64,           # Pad & truncate all sentences.\n",
    "                    padding = 'max_length',\n",
    "                    return_attention_mask = True,   # Construct attn. masks.\n",
    "                    truncation=True,\n",
    "                    return_tensors = 'pt',     # Return pytorch tensors.\n",
    "               )\n",
    "# Add the encoded sentence to the list.    \n",
    "input_ids_list.append(encoded_dict['input_ids'])\n",
    "token_type_ids.append(encoded_dict['token_type_ids'])\n",
    "# And its attention mask (simply differentiates padding from non-padding).\n",
    "attention_masks.append(encoded_dict['attention_mask'])\n",
    "\n",
    "# Convert the lists into tensors.\n",
    "input_ids = torch.cat(input_ids_list, dim=0)\n",
    "attention_masks = torch.cat(attention_masks, dim=0)\n",
    "token_type_ids = torch.cat(token_type_ids, dim=0)\n",
    "labels = torch.cat(input_ids_list, dim=0).detach().clone()\n",
    "next_sentence_label = torch.LongTensor([labels_nsp]).T\n",
    "# Print sentence 0, now as a list of IDs.\n",
    "print('Original: ', sentence_a[0], sentence_b[0])\n",
    "print('Token IDs:', input_ids[0])\n",
    "# print('Attention mask:', attention_masks[0])\n",
    "\n"
   ]
  },
  {
   "cell_type": "code",
   "execution_count": 17,
   "id": "8684cf1c",
   "metadata": {},
   "outputs": [
    {
     "data": {
      "text/plain": [
       "{'input_ids': tensor([[   0, 4419, 2126,  ..., 3641, 2829,    2],\n",
       "        [   0, 1010, 1021,  ...,    1,    1,    1],\n",
       "        [   0, 2300, 2064,  ...,    1,    1,    1],\n",
       "        ...,\n",
       "        [   0, 2069, 2061,  ..., 2022, 2529,    2],\n",
       "        [   0, 2016, 2027,  ...,    2,    1,    1],\n",
       "        [   0, 2020, 2101,  ...,    1,    1,    1]]), 'token_type_ids': tensor([[0, 0, 0,  ..., 1, 1, 1],\n",
       "        [0, 0, 0,  ..., 0, 0, 0],\n",
       "        [0, 0, 0,  ..., 0, 0, 0],\n",
       "        ...,\n",
       "        [0, 0, 0,  ..., 1, 1, 1],\n",
       "        [0, 0, 0,  ..., 1, 0, 0],\n",
       "        [0, 0, 0,  ..., 0, 0, 0]]), 'attention_mask': tensor([[1, 1, 1,  ..., 1, 1, 1],\n",
       "        [1, 1, 1,  ..., 0, 0, 0],\n",
       "        [1, 1, 1,  ..., 0, 0, 0],\n",
       "        ...,\n",
       "        [1, 1, 1,  ..., 1, 1, 1],\n",
       "        [1, 1, 1,  ..., 1, 0, 0],\n",
       "        [1, 1, 1,  ..., 0, 0, 0]])}"
      ]
     },
     "execution_count": 17,
     "metadata": {},
     "output_type": "execute_result"
    }
   ],
   "source": [
    "encoded_dict\n",
    "\n"
   ]
  },
  {
   "cell_type": "code",
   "execution_count": 18,
   "id": "15288640",
   "metadata": {},
   "outputs": [
    {
     "data": {
      "text/plain": [
       "tensor([[   0, 4419, 2126,  ..., 3641, 2829,    2],\n",
       "        [   0, 1010, 1021,  ...,    1,    1,    1],\n",
       "        [   0, 2300, 2064,  ...,    1,    1,    1],\n",
       "        ...,\n",
       "        [   0, 2069, 2061,  ..., 2022, 2529,    2],\n",
       "        [   0, 2016, 2027,  ...,    2,    1,    1],\n",
       "        [   0, 2020, 2101,  ...,    1,    1,    1]])"
      ]
     },
     "execution_count": 18,
     "metadata": {},
     "output_type": "execute_result"
    }
   ],
   "source": [
    "labels"
   ]
  },
  {
   "cell_type": "markdown",
   "id": "bea0e47c",
   "metadata": {},
   "source": [
    "# MLM"
   ]
  },
  {
   "cell_type": "code",
   "execution_count": 19,
   "id": "3cc91956",
   "metadata": {},
   "outputs": [
    {
     "data": {
      "text/plain": [
       "tensor([[False, False, False, False, False, False, False, False,  True, False,\n",
       "         False, False, False, False, False,  True, False, False, False, False,\n",
       "         False, False,  True, False, False,  True,  True, False, False, False,\n",
       "         False, False, False,  True, False,  True, False, False, False, False,\n",
       "         False,  True, False, False, False, False, False, False,  True, False,\n",
       "          True, False, False, False, False, False,  True, False, False, False,\n",
       "         False, False, False, False],\n",
       "        [False, False,  True,  True, False, False, False, False, False, False,\n",
       "         False, False, False, False,  True, False, False, False, False, False,\n",
       "         False, False, False, False,  True, False, False,  True, False, False,\n",
       "          True, False, False, False, False, False, False, False, False, False,\n",
       "         False, False,  True, False, False, False, False, False, False, False,\n",
       "         False, False, False, False, False, False, False, False, False, False,\n",
       "         False, False, False, False],\n",
       "        [False, False, False, False,  True, False, False, False, False, False,\n",
       "         False, False, False, False, False,  True, False, False,  True, False,\n",
       "         False,  True, False,  True, False, False, False, False, False, False,\n",
       "         False, False, False, False, False, False, False, False, False, False,\n",
       "          True, False, False, False, False, False, False,  True,  True, False,\n",
       "         False,  True, False, False, False, False, False, False, False, False,\n",
       "         False, False, False, False]])"
      ]
     },
     "execution_count": 19,
     "metadata": {},
     "output_type": "execute_result"
    }
   ],
   "source": [
    "# Masking MLM input ids\n",
    "\n",
    "# input_ids is label for MLM model\n",
    "# it is already a tensor\n",
    "labels = input_ids.detach().clone()\n",
    "\n",
    "# Array of random float of id shape\n",
    "rand = torch.rand(input_ids.shape)\n",
    "\n",
    "# True when not special token and take 15% of the input\n",
    "mask_arr = (rand < 0.15) * (input_ids != 1) * (input_ids != 2) * (input_ids != 0)\n",
    "\n",
    "mask_arr[:3]"
   ]
  },
  {
   "cell_type": "code",
   "execution_count": 20,
   "id": "01a0e5d8",
   "metadata": {},
   "outputs": [
    {
     "data": {
      "text/plain": [
       "[[8, 15, 22, 25, 26, 33, 35, 41, 48, 50, 56],\n",
       " [2, 3, 14, 24, 27, 30, 42],\n",
       " [4, 15, 18, 21, 23, 40, 47, 48, 51]]"
      ]
     },
     "execution_count": 20,
     "metadata": {},
     "output_type": "execute_result"
    }
   ],
   "source": [
    "selection = []\n",
    "\n",
    "for i in range(input_ids.shape[0]):\n",
    "    selection.append(\n",
    "        torch.flatten(mask_arr[i].nonzero()).tolist()\n",
    "    )\n",
    "selection[:3]"
   ]
  },
  {
   "cell_type": "code",
   "execution_count": 21,
   "id": "356d23fd",
   "metadata": {},
   "outputs": [],
   "source": [
    "# Mask the selected 15%\n",
    "# we don't mask any special token\n",
    "for i in range(input_ids.shape[0]):\n",
    "    input_ids[i, selection[i]] = 3"
   ]
  },
  {
   "cell_type": "code",
   "execution_count": 22,
   "id": "8845f449",
   "metadata": {},
   "outputs": [
    {
     "name": "stdout",
     "output_type": "stream",
     "text": [
      "There are 1 GPU(s) available.\n",
      "We will use the GPU: GeForce MX150\n"
     ]
    }
   ],
   "source": [
    "import torch\n",
    "\n",
    "# If there's a GPU available...\n",
    "if torch.cuda.is_available():    \n",
    "\n",
    "    # Tell PyTorch to use the GPU.    \n",
    "    device = torch.device(\"cuda\")\n",
    "\n",
    "    print('There are %d GPU(s) available.' % torch.cuda.device_count())\n",
    "\n",
    "    print('We will use the GPU:', torch.cuda.get_device_name(0))\n",
    "\n",
    "# If not...\n",
    "else:\n",
    "    print('No GPU available, using the CPU instead.')\n",
    "    device = torch.device(\"cpu\")"
   ]
  },
  {
   "cell_type": "code",
   "execution_count": 23,
   "id": "890ef934",
   "metadata": {},
   "outputs": [
    {
     "name": "stdout",
     "output_type": "stream",
     "text": [
      "  271 training samples\n",
      "   31 validation samples\n"
     ]
    }
   ],
   "source": [
    "# Create a pytorch dataset\n",
    "from torch.utils.data import TensorDataset, random_split\n",
    "\n",
    "# combine training inputs into Tensor Dataset\n",
    "dataset = TensorDataset(input_ids, token_type_ids, attention_masks, next_sentence_label, labels)\n",
    "\n",
    "# Create a 90-10 train-validation split.\n",
    "\n",
    "# Calculate the number of samples to include in each set.\n",
    "train_size = int(0.9 * len(dataset))\n",
    "val_size = len(dataset) - train_size\n",
    "\n",
    "# Divide the dataset by randomly selecting samples.\n",
    "train_dataset, val_dataset = random_split(dataset, [train_size, val_size])\n",
    "\n",
    "print('{:>5,} training samples'.format(train_size))\n",
    "print('{:>5,} validation samples'.format(val_size))"
   ]
  },
  {
   "cell_type": "code",
   "execution_count": 24,
   "id": "4baed62b",
   "metadata": {},
   "outputs": [],
   "source": [
    "from torch.utils.data import DataLoader, RandomSampler, SequentialSampler\n",
    "\n",
    "# The DataLoader needs to know our batch size for training, so we specify it \n",
    "# here. For fine-tuning BERT on a specific task, the authors recommend a batch \n",
    "# size of 16 or 32.\n",
    "batch_size = 8\n",
    "\n",
    "# Create the DataLoaders for our training and validation sets.\n",
    "# We'll take training samples in random order. \n",
    "train_dataloader = DataLoader(\n",
    "            train_dataset,  # The training samples.\n",
    "            sampler = RandomSampler(train_dataset), # Select batches randomly\n",
    "            batch_size = batch_size # Trains with this batch size.\n",
    "        )\n",
    "\n",
    "# For validation the order doesn't matter, so we'll just read them sequentially.\n",
    "validation_dataloader = DataLoader(\n",
    "            val_dataset, # The validation samples.\n",
    "            sampler = SequentialSampler(val_dataset), # Pull out batches sequentially.\n",
    "            batch_size = batch_size # Evaluate with this batch size.\n",
    "        )"
   ]
  },
  {
   "cell_type": "code",
   "execution_count": 25,
   "id": "94e08134",
   "metadata": {},
   "outputs": [
    {
     "name": "stdout",
     "output_type": "stream",
     "text": [
      "elt 0 input id: \n",
      " tensor([    0, 14903,  2243,  2007,  2002,  2448,     3,  2064,  3061,     3,\n",
      "         2035,  2198,  2002,  2179,  2004,  4247,  2002,  3157,  2002,  2206,\n",
      "         8289,  1015, 12275,  2002,  2035,     3,     3,     3,  2208,  2055,\n",
      "         2081,     3,  2135,  2209,  2218,  1015,  1015,  2034,  3284,  1033,\n",
      "         2825,  3464,  2021,  2127,     2,  2089,  2001,  2058,  2110,  2027,\n",
      "         8159,  2771,  3717,  1033,  8104,     3,     3,  4303,  2004,  2472,\n",
      "         5403, 18894,  2125,     2])\n",
      "elt 0 attention mask: \n",
      " tensor([0, 0, 0, 0, 0, 0, 0, 0, 0, 0, 0, 0, 0, 0, 0, 0, 0, 0, 0, 0, 0, 0, 0, 0,\n",
      "        0, 0, 0, 0, 0, 0, 0, 0, 0, 0, 0, 0, 0, 0, 0, 0, 0, 0, 0, 0, 0, 1, 1, 1,\n",
      "        1, 1, 1, 1, 1, 1, 1, 1, 1, 1, 1, 1, 1, 1, 1, 1])\n",
      "elt 0 label: \n",
      " tensor([1, 1, 1, 1, 1, 1, 1, 1, 1, 1, 1, 1, 1, 1, 1, 1, 1, 1, 1, 1, 1, 1, 1, 1,\n",
      "        1, 1, 1, 1, 1, 1, 1, 1, 1, 1, 1, 1, 1, 1, 1, 1, 1, 1, 1, 1, 1, 1, 1, 1,\n",
      "        1, 1, 1, 1, 1, 1, 1, 1, 1, 1, 1, 1, 1, 1, 1, 1])\n"
     ]
    }
   ],
   "source": [
    "print('elt 0 input id: \\n', train_dataset[0][0])\n",
    "print('elt 0 attention mask: \\n', train_dataset[0][1])\n",
    "print('elt 0 label: \\n', train_dataset[0][2])\n"
   ]
  },
  {
   "cell_type": "code",
   "execution_count": 26,
   "id": "706497bb",
   "metadata": {},
   "outputs": [
    {
     "name": "stderr",
     "output_type": "stream",
     "text": [
      "You are using a model of type mpnet to instantiate a model of type bert. This is not supported for all configurations of models and can yield errors.\n",
      "Some weights of the model checkpoint at sentence-transformers/paraphrase-mpnet-base-v2 were not used when initializing BertForPreTraining: ['encoder.layer.1.attention.attn.k.weight', 'encoder.layer.1.attention.LayerNorm.weight', 'encoder.layer.11.attention.attn.o.bias', 'encoder.layer.3.attention.LayerNorm.bias', 'encoder.layer.2.attention.attn.v.bias', 'encoder.layer.3.attention.attn.o.bias', 'encoder.layer.6.attention.attn.o.bias', 'encoder.layer.8.attention.attn.o.bias', 'encoder.layer.9.attention.attn.q.weight', 'encoder.layer.8.attention.attn.k.weight', 'encoder.layer.11.attention.attn.q.bias', 'encoder.layer.5.attention.attn.v.weight', 'encoder.layer.9.attention.LayerNorm.bias', 'encoder.layer.10.attention.attn.q.bias', 'encoder.layer.9.attention.attn.q.bias', 'encoder.layer.11.attention.attn.v.weight', 'encoder.layer.7.attention.attn.q.bias', 'encoder.layer.4.attention.attn.v.weight', 'encoder.layer.5.attention.attn.k.bias', 'encoder.layer.2.attention.attn.k.weight', 'encoder.layer.6.attention.LayerNorm.weight', 'encoder.layer.4.attention.attn.o.bias', 'encoder.layer.9.attention.attn.k.bias', 'encoder.layer.2.attention.attn.q.weight', 'encoder.layer.6.attention.attn.q.weight', 'encoder.layer.7.attention.attn.o.weight', 'encoder.layer.10.attention.LayerNorm.weight', 'encoder.layer.0.attention.LayerNorm.bias', 'encoder.layer.0.attention.attn.o.weight', 'encoder.layer.11.attention.attn.o.weight', 'encoder.layer.2.attention.attn.v.weight', 'encoder.layer.5.attention.attn.q.bias', 'encoder.layer.10.attention.attn.k.weight', 'encoder.layer.4.attention.attn.v.bias', 'encoder.layer.1.attention.attn.q.bias', 'encoder.layer.4.attention.attn.k.bias', 'encoder.layer.8.attention.attn.q.bias', 'encoder.layer.5.attention.attn.q.weight', 'encoder.layer.5.attention.LayerNorm.weight', 'encoder.layer.4.attention.attn.q.bias', 'encoder.layer.4.attention.attn.o.weight', 'encoder.layer.8.attention.attn.o.weight', 'encoder.layer.0.attention.attn.v.weight', 'encoder.layer.8.attention.LayerNorm.weight', 'encoder.layer.4.attention.LayerNorm.weight', 'encoder.layer.7.attention.attn.k.weight', 'encoder.layer.10.attention.attn.o.bias', 'encoder.layer.4.attention.attn.k.weight', 'encoder.layer.10.attention.attn.v.weight', 'encoder.layer.2.attention.LayerNorm.weight', 'encoder.layer.11.attention.attn.v.bias', 'encoder.layer.11.attention.LayerNorm.bias', 'encoder.layer.0.attention.attn.q.bias', 'encoder.layer.0.attention.attn.k.bias', 'encoder.layer.0.attention.attn.o.bias', 'encoder.layer.1.attention.attn.v.weight', 'encoder.layer.1.attention.attn.v.bias', 'encoder.layer.3.attention.attn.q.bias', 'encoder.layer.3.attention.attn.v.weight', 'encoder.layer.8.attention.LayerNorm.bias', 'encoder.layer.7.attention.attn.q.weight', 'encoder.layer.11.attention.attn.q.weight', 'encoder.layer.7.attention.attn.v.bias', 'encoder.layer.6.attention.attn.v.weight', 'encoder.layer.11.attention.attn.k.weight', 'encoder.layer.11.attention.LayerNorm.weight', 'encoder.layer.6.attention.LayerNorm.bias', 'encoder.layer.9.attention.attn.k.weight', 'encoder.layer.1.attention.LayerNorm.bias', 'encoder.layer.6.attention.attn.k.bias', 'encoder.layer.7.attention.LayerNorm.bias', 'encoder.relative_attention_bias.weight', 'encoder.layer.1.attention.attn.k.bias', 'encoder.layer.0.attention.attn.v.bias', 'encoder.layer.9.attention.attn.v.bias', 'encoder.layer.9.attention.LayerNorm.weight', 'encoder.layer.9.attention.attn.o.bias', 'encoder.layer.6.attention.attn.q.bias', 'encoder.layer.8.attention.attn.v.weight', 'encoder.layer.6.attention.attn.o.weight', 'encoder.layer.10.attention.attn.q.weight', 'encoder.layer.5.attention.attn.k.weight', 'encoder.layer.1.attention.attn.o.weight', 'encoder.layer.0.attention.attn.q.weight', 'encoder.layer.1.attention.attn.o.bias', 'encoder.layer.7.attention.attn.v.weight', 'encoder.layer.8.attention.attn.q.weight', 'encoder.layer.5.attention.attn.v.bias', 'encoder.layer.5.attention.attn.o.weight', 'encoder.layer.6.attention.attn.k.weight', 'encoder.layer.7.attention.attn.o.bias', 'encoder.layer.5.attention.LayerNorm.bias', 'encoder.layer.4.attention.LayerNorm.bias', 'encoder.layer.6.attention.attn.v.bias', 'encoder.layer.3.attention.attn.k.bias', 'encoder.layer.0.attention.attn.k.weight', 'encoder.layer.10.attention.attn.o.weight', 'encoder.layer.0.attention.LayerNorm.weight', 'encoder.layer.2.attention.attn.o.bias', 'encoder.layer.11.attention.attn.k.bias', 'encoder.layer.3.attention.LayerNorm.weight', 'encoder.layer.2.attention.LayerNorm.bias', 'encoder.layer.8.attention.attn.v.bias', 'encoder.layer.3.attention.attn.v.bias', 'encoder.layer.4.attention.attn.q.weight', 'encoder.layer.3.attention.attn.k.weight', 'encoder.layer.7.attention.attn.k.bias', 'encoder.layer.9.attention.attn.o.weight', 'encoder.layer.2.attention.attn.o.weight', 'encoder.layer.8.attention.attn.k.bias', 'encoder.layer.9.attention.attn.v.weight', 'encoder.layer.10.attention.attn.v.bias', 'encoder.layer.3.attention.attn.q.weight', 'encoder.layer.2.attention.attn.q.bias', 'encoder.layer.3.attention.attn.o.weight', 'encoder.layer.1.attention.attn.q.weight', 'encoder.layer.2.attention.attn.k.bias', 'encoder.layer.10.attention.attn.k.bias', 'encoder.layer.5.attention.attn.o.bias', 'encoder.layer.7.attention.LayerNorm.weight', 'encoder.layer.10.attention.LayerNorm.bias']\n",
      "- This IS expected if you are initializing BertForPreTraining from the checkpoint of a model trained on another task or with another architecture (e.g. initializing a BertForSequenceClassification model from a BertForPreTraining model).\n",
      "- This IS NOT expected if you are initializing BertForPreTraining from the checkpoint of a model that you expect to be exactly identical (initializing a BertForSequenceClassification model from a BertForSequenceClassification model).\n",
      "Some weights of BertForPreTraining were not initialized from the model checkpoint at sentence-transformers/paraphrase-mpnet-base-v2 and are newly initialized: ['cls.predictions.transform.dense.weight', 'encoder.layer.2.attention.self.value.weight', 'encoder.layer.4.attention.self.key.weight', 'encoder.layer.8.attention.self.value.weight', 'encoder.layer.6.attention.self.key.bias', 'encoder.layer.9.attention.self.key.weight', 'encoder.layer.11.attention.self.query.weight', 'encoder.layer.7.attention.self.query.bias', 'encoder.layer.11.attention.output.LayerNorm.bias', 'encoder.layer.6.attention.output.LayerNorm.weight', 'encoder.layer.1.attention.self.key.bias', 'encoder.layer.7.attention.output.LayerNorm.weight', 'encoder.layer.4.attention.output.LayerNorm.weight', 'encoder.layer.7.attention.self.key.weight', 'encoder.layer.5.attention.output.LayerNorm.bias', 'encoder.layer.9.attention.output.LayerNorm.weight', 'cls.seq_relationship.bias', 'encoder.layer.0.attention.output.dense.weight', 'encoder.layer.6.attention.self.value.bias', 'encoder.layer.1.attention.self.key.weight', 'encoder.layer.7.attention.self.query.weight', 'encoder.layer.4.attention.self.value.bias', 'encoder.layer.10.attention.self.query.weight', 'encoder.layer.2.attention.self.query.bias', 'encoder.layer.6.attention.self.value.weight', 'encoder.layer.10.attention.output.LayerNorm.bias', 'encoder.layer.5.attention.output.dense.weight', 'encoder.layer.7.attention.output.dense.weight', 'encoder.layer.8.attention.self.query.weight', 'cls.predictions.transform.LayerNorm.weight', 'cls.predictions.decoder.weight', 'encoder.layer.0.attention.self.query.bias', 'encoder.layer.5.attention.output.dense.bias', 'encoder.layer.6.attention.self.query.bias', 'encoder.layer.7.attention.output.dense.bias', 'encoder.layer.3.attention.output.dense.bias', 'encoder.layer.9.attention.self.value.bias', 'encoder.layer.2.attention.output.LayerNorm.weight', 'encoder.layer.0.attention.self.key.weight', 'encoder.layer.8.attention.output.LayerNorm.bias', 'encoder.layer.10.attention.self.query.bias', 'encoder.layer.8.attention.self.key.bias', 'encoder.layer.0.attention.self.value.weight', 'encoder.layer.8.attention.self.key.weight', 'encoder.layer.8.attention.output.LayerNorm.weight', 'encoder.layer.9.attention.output.dense.bias', 'encoder.layer.0.attention.output.dense.bias', 'encoder.layer.11.attention.output.dense.weight', 'encoder.layer.0.attention.self.query.weight', 'encoder.layer.11.attention.self.value.bias', 'encoder.layer.2.attention.output.LayerNorm.bias', 'encoder.layer.8.attention.self.value.bias', 'encoder.layer.3.attention.self.key.bias', 'encoder.layer.8.attention.output.dense.weight', 'encoder.layer.10.attention.self.key.weight', 'cls.predictions.decoder.bias', 'encoder.layer.0.attention.self.value.bias', 'encoder.layer.3.attention.self.value.weight', 'encoder.layer.0.attention.self.key.bias', 'encoder.layer.5.attention.self.query.bias', 'encoder.layer.11.attention.self.value.weight', 'encoder.layer.3.attention.self.query.bias', 'encoder.layer.10.attention.self.key.bias', 'encoder.layer.11.attention.output.LayerNorm.weight', 'encoder.layer.1.attention.output.dense.weight', 'encoder.layer.11.attention.self.query.bias', 'encoder.layer.11.attention.output.dense.bias', 'encoder.layer.3.attention.self.value.bias', 'encoder.layer.2.attention.self.key.weight', 'encoder.layer.3.attention.output.LayerNorm.weight', 'encoder.layer.4.attention.self.query.bias', 'encoder.layer.7.attention.self.value.bias', 'encoder.layer.5.attention.self.key.bias', 'encoder.layer.7.attention.output.LayerNorm.bias', 'encoder.layer.2.attention.output.dense.weight', 'encoder.layer.4.attention.self.query.weight', 'encoder.layer.3.attention.self.key.weight', 'encoder.layer.5.attention.self.query.weight', 'encoder.layer.5.attention.self.key.weight', 'encoder.layer.4.attention.self.value.weight', 'encoder.layer.8.attention.output.dense.bias', 'encoder.layer.3.attention.self.query.weight', 'encoder.layer.4.attention.self.key.bias', 'encoder.layer.5.attention.output.LayerNorm.weight', 'encoder.layer.1.attention.self.value.weight', 'encoder.layer.1.attention.self.value.bias', 'encoder.layer.0.attention.output.LayerNorm.bias', 'encoder.layer.10.attention.output.LayerNorm.weight', 'encoder.layer.9.attention.output.dense.weight', 'embeddings.token_type_embeddings.weight', 'encoder.layer.3.attention.output.LayerNorm.bias', 'encoder.layer.2.attention.self.key.bias', 'encoder.layer.4.attention.output.dense.bias', 'encoder.layer.9.attention.self.value.weight', 'encoder.layer.6.attention.self.key.weight', 'encoder.layer.3.attention.output.dense.weight', 'encoder.layer.6.attention.output.dense.weight', 'encoder.layer.6.attention.output.dense.bias', 'encoder.layer.10.attention.output.dense.bias', 'encoder.layer.1.attention.self.query.bias', 'encoder.layer.2.attention.self.query.weight', 'cls.predictions.transform.dense.bias', 'encoder.layer.9.attention.output.LayerNorm.bias', 'encoder.layer.6.attention.output.LayerNorm.bias', 'cls.predictions.transform.LayerNorm.bias', 'encoder.layer.9.attention.self.query.weight', 'encoder.layer.1.attention.output.LayerNorm.weight', 'encoder.layer.7.attention.self.value.weight', 'encoder.layer.0.attention.output.LayerNorm.weight', 'encoder.layer.4.attention.output.LayerNorm.bias', 'encoder.layer.1.attention.output.LayerNorm.bias', 'encoder.layer.1.attention.self.query.weight', 'encoder.layer.10.attention.self.value.bias', 'encoder.layer.5.attention.self.value.weight', 'encoder.layer.9.attention.self.query.bias', 'encoder.layer.1.attention.output.dense.bias', 'encoder.layer.2.attention.output.dense.bias', 'encoder.layer.5.attention.self.value.bias', 'encoder.layer.7.attention.self.key.bias', 'cls.seq_relationship.weight', 'encoder.layer.10.attention.output.dense.weight', 'encoder.layer.11.attention.self.key.weight', 'encoder.layer.6.attention.self.query.weight', 'encoder.layer.2.attention.self.value.bias', 'encoder.layer.4.attention.output.dense.weight', 'cls.predictions.bias', 'encoder.layer.11.attention.self.key.bias', 'encoder.layer.8.attention.self.query.bias', 'encoder.layer.9.attention.self.key.bias', 'encoder.layer.10.attention.self.value.weight']\n",
      "You should probably TRAIN this model on a down-stream task to be able to use it for predictions and inference.\n"
     ]
    }
   ],
   "source": [
    "from transformers import BertTokenizer, BertForPreTraining, AdamW\n",
    "import torch\n",
    "\n",
    "model_name = 'sentence-transformers/paraphrase-mpnet-base-v2'\n",
    "tokenizer = BertTokenizer.from_pretrained(model_name)\n",
    "model = BertForPreTraining.from_pretrained(model_name)\n"
   ]
  },
  {
   "cell_type": "code",
   "execution_count": 27,
   "id": "06d9309a",
   "metadata": {},
   "outputs": [],
   "source": [
    "# Note: AdamW is a class from the huggingface library (as opposed to pytorch) \n",
    "# I believe the 'W' stands for 'Weight Decay fix\"\n",
    "optimizer = AdamW(model.parameters(),\n",
    "                  lr = 2e-5, # args.learning_rate - default is 5e-5, our notebook had 2e-5\n",
    "                  eps = 1e-8 # args.adam_epsilon  - default is 1e-8.\n",
    "                )"
   ]
  },
  {
   "cell_type": "code",
   "execution_count": 28,
   "id": "2b9097b6",
   "metadata": {},
   "outputs": [],
   "source": [
    "from transformers import get_linear_schedule_with_warmup\n",
    "\n",
    "# Number of training epochs. The BERT authors recommend between 2 and 4. \n",
    "# We chose to run for 4, but we'll see later that this may be over-fitting the\n",
    "# training data.\n",
    "epochs = \n",
    "\n",
    "# Total number of training steps is [number of batches] x [number of epochs]. \n",
    "# (Note that this is not the same as the number of training samples).\n",
    "total_steps = len(train_dataloader) * epochs\n",
    "\n",
    "# Create the learning rate scheduler.\n",
    "scheduler = get_linear_schedule_with_warmup(optimizer, \n",
    "                                            num_warmup_steps = 0, # Default value in run_glue.py\n",
    "                                            num_training_steps = total_steps)"
   ]
  },
  {
   "cell_type": "code",
   "execution_count": 29,
   "id": "e8669bf5",
   "metadata": {},
   "outputs": [],
   "source": [
    "import time\n",
    "import datetime\n",
    "\n",
    "def format_time(elapsed):\n",
    "    '''\n",
    "    Takes a time in seconds and returns a string hh:mm:ss\n",
    "    '''\n",
    "    # Round to the nearest second.\n",
    "    elapsed_rounded = int(round((elapsed)))\n",
    "    \n",
    "    # Format as hh:mm:ss\n",
    "    return str(datetime.timedelta(seconds=elapsed_rounded))\n"
   ]
  },
  {
   "cell_type": "code",
   "execution_count": 30,
   "id": "53e4368a",
   "metadata": {},
   "outputs": [
    {
     "name": "stdout",
     "output_type": "stream",
     "text": [
      "cuda 2\n",
      "cuda\n",
      "\n",
      "======== Epoch 1 / 2 ========\n",
      "Training...\n"
     ]
    },
    {
     "name": "stderr",
     "output_type": "stream",
     "text": [
      "100%|███████████████████████████████████████████| 34/34 [00:27<00:00,  1.24it/s]\n"
     ]
    },
    {
     "name": "stdout",
     "output_type": "stream",
     "text": [
      "\n",
      "  Average training loss: 8.73\n",
      "  Training epcoh took: 0:00:28\n",
      "\n",
      "Running Validation...\n"
     ]
    },
    {
     "name": "stderr",
     "output_type": "stream",
     "text": [
      "/tmp/ipykernel_6678/3144231659.py:186: DeprecationWarning: elementwise comparison failed; this will raise an error in the future.\n",
      "  total_eval_accuracy += np.sum(logits == label_ids) / len(label_ids)\n"
     ]
    },
    {
     "name": "stdout",
     "output_type": "stream",
     "text": [
      "  Accuracy: 0.00\n",
      "  Validation Loss: 7.38\n",
      "  Validation took: 0:00:01\n",
      "\n",
      "======== Epoch 2 / 2 ========\n",
      "Training...\n"
     ]
    },
    {
     "name": "stderr",
     "output_type": "stream",
     "text": [
      "100%|███████████████████████████████████████████| 34/34 [00:28<00:00,  1.20it/s]\n"
     ]
    },
    {
     "name": "stdout",
     "output_type": "stream",
     "text": [
      "\n",
      "  Average training loss: 7.28\n",
      "  Training epcoh took: 0:00:28\n",
      "\n",
      "Running Validation...\n",
      "  Accuracy: 0.00\n",
      "  Validation Loss: 7.18\n",
      "  Validation took: 0:00:01\n",
      "\n",
      "Training complete!\n",
      "Total training took 0:00:58 (h:mm:ss)\n"
     ]
    }
   ],
   "source": [
    "import time\n",
    "import numpy as np \n",
    "\n",
    "print(device, epochs)\n",
    "model.cuda()\n",
    "\n",
    "# Set the seed value all over the place to make this reproducible.\n",
    "print(device)\n",
    "model.cuda()\n",
    "seed_val = 42\n",
    "random.seed(seed_val)\n",
    "np.random.seed(seed_val)\n",
    "torch.manual_seed(seed_val)\n",
    "torch.cuda.manual_seed_all(seed_val)\n",
    "\n",
    "# We'll store a number of quantities such as training and validation loss, \n",
    "# validation accuracy, and timings.\n",
    "training_stats = []\n",
    "\n",
    "activation = torch.nn.Softmax(dim=1)\n",
    "\n",
    "# Measure the total training time for the whole run.\n",
    "total_t0 = time.time()\n",
    "\n",
    "\n",
    "for epoch_i in range(0, epochs):\n",
    "        # ========================================\n",
    "    #               Training\n",
    "    # ========================================\n",
    "    \n",
    "    # Perform one full pass over the training set.\n",
    "\n",
    "    print(\"\")\n",
    "    print('======== Epoch {:} / {:} ========'.format(epoch_i + 1, epochs))\n",
    "    print('Training...')\n",
    "\n",
    "    # Measure how long the training epoch takes.\n",
    "    t0 = time.time()\n",
    "\n",
    "    # Reset the total loss for this epoch.\n",
    "    total_train_loss = 0\n",
    "\n",
    "    # Put the model into training mode. Don't be mislead--the call to \n",
    "    # `train` just changes the *mode*, it doesn't *perform* the training.\n",
    "    # `dropout` and `batchnorm` layers behave differently during training\n",
    "    # vs. test (source: https://stackoverflow.com/questions/51433378/what-does-model-train-do-in-pytorch)\n",
    "    model.train()\n",
    "    loop = tqdm.tqdm(train_dataloader, leave=True)\n",
    "    \n",
    "    for batch in loop:\n",
    "        # input_ids, token_type_ids, attention_masks, next_sentence_label, labels\n",
    "        b_input_ids = batch[0].to(device)\n",
    "        b_token_type_ids = batch[1].to(device)\n",
    "        b_attention_masks = batch[2].to(device)\n",
    "        b_next_sentence_label = batch[3].to(device)\n",
    "        b_labels = batch[4].to(device)\n",
    "        model.zero_grad()        \n",
    "        \n",
    "        # Perform a forward pass (evaluate the model on this training batch).\n",
    "        # The documentation for this `model` function is here: \n",
    "        # https://huggingface.co/transformers/v2.2.0/model_doc/bert.html#transformers.BertForSequenceClassification\n",
    "        # It returns different numbers of parameters depending on what arguments\n",
    "        # arge given and what flags are set. For our useage here, it returns\n",
    "        # the lorequires_gradss (because we provided labels) and the \"logits\"--the model\n",
    "        # outputs prior to activation.\n",
    "#         print('DEBUG', len(b_input_ids, b_inputs_ids.shape))\n",
    "        output = model(b_input_ids, attention_mask=b_attention_masks,\n",
    "                        token_type_ids=b_token_type_ids,\n",
    "                        next_sentence_label=b_next_sentence_label,\n",
    "                        labels=b_labels)\n",
    "    \n",
    "\n",
    "       # Accumulate the training loss over all of the batches so that we can\n",
    "        # calculate the average loss at the end. `loss` is a Tensor containing a\n",
    "        # single value; the `.item()` function just returns the Python value \n",
    "        # from the tensor.\n",
    "        loss = output.loss\n",
    "#         logits = output.logits\n",
    "#         logits = torch.max(activation(logits), axis=1).indices\n",
    "\n",
    "        total_train_loss += loss.item()\n",
    "\n",
    "        # Perform a backward pass to calculate the gradients.\n",
    "        loss.backward()\n",
    "\n",
    "        # Clip the norm of the gradients to 1.0.\n",
    "        # This is to help prevent the \"exploding gradients\" problem.\n",
    "        torch.nn.utils.clip_grad_norm_(model.parameters(), 1.0)\n",
    "\n",
    "        # Update parameters and take a step using the computed gradient.\n",
    "        # The optimizer dictates the \"update rule\"--how the parameters are\n",
    "        # modified based on their gradients, the learning rate, etc.\n",
    "        optimizer.step()\n",
    "\n",
    "        # Update the learning rate.\n",
    "        scheduler.step()\n",
    "        \n",
    "        # Calculate the average loss over all of the batches.\n",
    "        avg_train_loss = total_train_loss / len(train_dataloader)            \n",
    "\n",
    "        # Measure how long this epoch took.\n",
    "        training_time = format_time(time.time() - t0)\n",
    "        \n",
    "        \n",
    "# Measure how long this epoch took.\n",
    "    training_time = format_time(time.time() - t0)\n",
    "\n",
    "    print(\"\")\n",
    "    print(\"  Average training loss: {0:.2f}\".format(avg_train_loss))\n",
    "    print(\"  Training epcoh took: {:}\".format(training_time))\n",
    "        \n",
    "    # ========================================\n",
    "    #               Validation\n",
    "    # ========================================\n",
    "    # After the completion of each training epoch, measure our performance on\n",
    "    # our validation set.\n",
    "\n",
    "    print(\"\")\n",
    "    print(\"Running Validation...\")\n",
    "\n",
    "    t0 = time.time()\n",
    "\n",
    "    # Put the model in evaluation mode--the dropout layers behave differently\n",
    "    # during evaluation.\n",
    "    model.eval()\n",
    "\n",
    "    # Tracking variables \n",
    "    total_eval_accuracy = 0\n",
    "    eval_labels, eval_logits = [], []\n",
    "    total_eval_loss = 0\n",
    "    nb_eval_steps = 0\n",
    "\n",
    "    # Evaluate data for one epoch\n",
    "    for batch in validation_dataloader:\n",
    "        \n",
    "        # Unpack this training batch from our dataloader. \n",
    "        #\n",
    "        # As we unpack the batch, we'll also copy each tensor to the GPU using \n",
    "        # the `to` method.\n",
    "        #\n",
    "        b_input_ids = batch[0].to(device)\n",
    "        b_token_type_ids = batch[1].to(device)\n",
    "        b_attention_masks = batch[2].to(device)\n",
    "        b_next_sentence_label = batch[3].to(device)\n",
    "        b_labels = batch[4].to(device)\n",
    "        model.zero_grad()        \n",
    "        \n",
    "        # Perform a forward pass (evaluate the model on this training batch).\n",
    "        # The documentation for this `model` function is here: \n",
    "        # https://huggingface.co/transformers/v2.2.0/model_doc/bert.html#transformers.BertForSequenceClassification\n",
    "        # It returns different numbers of parameters depending on what arguments\n",
    "        # arge given and what flags are set. For our useage here, it returns\n",
    "        # the lorequires_gradss (because we provided labels) and the \"logits\"--the model\n",
    "        # outputs prior to activation.\n",
    "#         print('DEBUG', len(b_input_ids, b_inputs_ids.shape))\n",
    "        \n",
    "                \n",
    "        # Tell pytorch not to bother with constructing the compute graph during\n",
    "        # the forward pass, since this is only needed for backprop (training).\n",
    "        with torch.no_grad():        \n",
    "\n",
    "            # Forward pass, calculate logit predictions.\n",
    "            # token_type_ids is the same as the \"segment ids\", which \n",
    "            # differentiates sentence 1 and 2 in 2-sentence tasks.\n",
    "            # The documentation for this `model` function is here: \n",
    "            # https://huggingface.co/transformers/v2.2.0/model_doc/bert.html#transformers.BertForSequenceClassification\n",
    "            # Get the \"logits\" output by the model. The \"logits\" are the output\n",
    "            # values prior to applying an activation function like the softmax.\n",
    "            output = model(b_input_ids, attention_mask=b_attention_masks,\n",
    "                        token_type_ids=b_token_type_ids,\n",
    "                        next_sentence_label=b_next_sentence_label,\n",
    "                        labels=b_labels)\n",
    "        loss = output.loss\n",
    "        logits = output.prediction_logits\n",
    "        logits = torch.max(activation(logits), axis=1).indices\n",
    "\n",
    "        # Accumulate the validation loss.\n",
    "        total_eval_loss += loss.item()\n",
    "\n",
    "        # Move logits and labels to CPU\n",
    "        logits = logits.detach().cpu().numpy()\n",
    "        label_ids = b_labels.to('cpu').numpy()\n",
    "\n",
    "        # Calculate the accuracy for this batch of test sentences, and\n",
    "        # accumulate it over all batches.\n",
    "        total_eval_accuracy += np.sum(logits == label_ids) / len(label_ids)\n",
    "        eval_labels.extend(label_ids)\n",
    "        eval_logits.extend(logits)\n",
    "        \n",
    "\n",
    "    # Report the final accuracy for this validation run.\n",
    "    avg_val_accuracy = total_eval_accuracy / len(validation_dataloader)\n",
    "    print(\"  Accuracy: {0:.2f}\".format(avg_val_accuracy))\n",
    "\n",
    "    # Calculate the average loss over all of the batches.\n",
    "    avg_val_loss = total_eval_loss / len(validation_dataloader)\n",
    "    \n",
    "    # Measure how long the validation run took.\n",
    "    validation_time = format_time(time.time() - t0)\n",
    "    \n",
    "    print(\"  Validation Loss: {0:.2f}\".format(avg_val_loss))\n",
    "    print(\"  Validation took: {:}\".format(validation_time))\n",
    "\n",
    "    # Record all statistics from this epoch.\n",
    "    training_stats.append(\n",
    "        {\n",
    "            'epoch': epoch_i + 1,\n",
    "            'Training Loss': avg_train_loss,\n",
    "            'Valid. Loss': avg_val_loss,\n",
    "            'Valid. Accur.': avg_val_accuracy,\n",
    "            'Training Time': training_time,\n",
    "            'Validation Time': validation_time\n",
    "        }\n",
    "    )\n",
    "\n",
    "print(\"\")\n",
    "print(\"Training complete!\")\n",
    "\n",
    "print(\"Total training took {:} (h:mm:ss)\".format(format_time(time.time()-total_t0)))"
   ]
  },
  {
   "cell_type": "code",
   "execution_count": 32,
   "id": "d0e4a21f",
   "metadata": {},
   "outputs": [
    {
     "name": "stdout",
     "output_type": "stream",
     "text": [
      "Saving model to ./model_save_philo_nsp_mlm_2_epochs/\n"
     ]
    },
    {
     "data": {
      "text/plain": [
       "('./model_save_philo_nsp_mlm_2_epochs/tokenizer_config.json',\n",
       " './model_save_philo_nsp_mlm_2_epochs/special_tokens_map.json',\n",
       " './model_save_philo_nsp_mlm_2_epochs/vocab.txt',\n",
       " './model_save_philo_nsp_mlm_2_epochs/added_tokens.json')"
      ]
     },
     "execution_count": 32,
     "metadata": {},
     "output_type": "execute_result"
    }
   ],
   "source": [
    "import os\n",
    "\n",
    "# Saving best-practices: if you use defaults names for the model, you can reload it using from_pretrained()\n",
    "\n",
    "output_dir = './model_save_philo_nsp_mlm_2_epochs/'\n",
    "\n",
    "# Create output directory if needed\n",
    "if not os.path.exists(output_dir):\n",
    "    os.makedirs(output_dir)\n",
    "\n",
    "print(\"Saving model to %s\" % output_dir)\n",
    "\n",
    "# Save a trained model, configuration and tokenizer using `save_pretrained()`.\n",
    "# They can then be reloaded using `from_pretrained()`\n",
    "model_to_save = model.module if hasattr(model, 'module') else model  # Take care of distributed/parallel training\n",
    "model_to_save.save_pretrained(output_dir)\n",
    "tokenizer.save_pretrained(output_dir)\n",
    "\n",
    "# Good practice: save your training arguments together with the trained model\n",
    "# torch.save(args, os.path.join(output_dir, 'training_args.bin'))"
   ]
  },
  {
   "cell_type": "code",
   "execution_count": null,
   "id": "0bd8d8a4",
   "metadata": {},
   "outputs": [],
   "source": []
  }
 ],
 "metadata": {
  "kernelspec": {
   "display_name": "env",
   "language": "python",
   "name": "env"
  },
  "language_info": {
   "codemirror_mode": {
    "name": "ipython",
    "version": 3
   },
   "file_extension": ".py",
   "mimetype": "text/x-python",
   "name": "python",
   "nbconvert_exporter": "python",
   "pygments_lexer": "ipython3",
   "version": "3.8.8"
  }
 },
 "nbformat": 4,
 "nbformat_minor": 5
}
