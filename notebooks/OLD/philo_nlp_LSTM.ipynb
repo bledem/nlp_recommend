{
 "cells": [
  {
   "cell_type": "code",
   "execution_count": 1,
   "metadata": {},
   "outputs": [],
   "source": [
    "import time\n",
    "import os\n",
    "import nltk\n",
    "import torch\n",
    "\n",
    "import numpy as np\n",
    "import pandas as pd\n",
    "from sklearn.model_selection import train_test_split\n",
    "import matplotlib.pyplot as plt"
   ]
  },
  {
   "cell_type": "code",
   "execution_count": 2,
   "metadata": {},
   "outputs": [],
   "source": [
    "%matplotlib inline\n"
   ]
  },
  {
   "cell_type": "code",
   "execution_count": 12,
   "metadata": {},
   "outputs": [],
   "source": [
    "ran_state = 42\n",
    "\n",
    "current_dir = os.getcwd()\n",
    "data_dir = f'{current_dir}/dataset'\n",
    "dl_folder = f'{current_dir}/dataset/dl'\n",
    "destination_folder = f'{current_dir}/results'\n",
    "filenames = [\n",
    "    'kant.txt', \n",
    "    'aristotle.txt', \n",
    "    'plato.txt', \n",
    "    'hume.txt',\n",
    "    'nietzsche.txt'\n",
    "    ]\n",
    "\n",
    "[os.path.join(data_dir, file) for file in filenames]\n",
    "device = torch.device(\"cuda\" if torch.cuda.is_available() else \"cpu\")\n"
   ]
  },
  {
   "cell_type": "code",
   "execution_count": 13,
   "metadata": {},
   "outputs": [
    {
     "data": {
      "text/html": [
       "<div>\n",
       "<style scoped>\n",
       "    .dataframe tbody tr th:only-of-type {\n",
       "        vertical-align: middle;\n",
       "    }\n",
       "\n",
       "    .dataframe tbody tr th {\n",
       "        vertical-align: top;\n",
       "    }\n",
       "\n",
       "    .dataframe thead th {\n",
       "        text-align: right;\n",
       "    }\n",
       "</style>\n",
       "<table border=\"1\" class=\"dataframe\">\n",
       "  <thead>\n",
       "    <tr style=\"text-align: right;\">\n",
       "      <th></th>\n",
       "      <th>sentence</th>\n",
       "      <th>label</th>\n",
       "      <th>author</th>\n",
       "      <th>tok_lem_sentence</th>\n",
       "    </tr>\n",
       "  </thead>\n",
       "  <tbody>\n",
       "    <tr>\n",
       "      <th>0</th>\n",
       "      <td>Nay suppose we coued draw an inference, it wou...</td>\n",
       "      <td>1</td>\n",
       "      <td>Hume</td>\n",
       "      <td>[nay, suppose, coued, draw, inference, would, ...</td>\n",
       "    </tr>\n",
       "    <tr>\n",
       "      <th>1</th>\n",
       "      <td>For to know this is true wisdom and virtue, an...</td>\n",
       "      <td>2</td>\n",
       "      <td>Plato</td>\n",
       "      <td>[know, true, wisdom, virtue, ignorance, manife...</td>\n",
       "    </tr>\n",
       "    <tr>\n",
       "      <th>2</th>\n",
       "      <td>This is the testimony of pleasure of which all...</td>\n",
       "      <td>4</td>\n",
       "      <td>Nietzsche</td>\n",
       "      <td>[testimony, pleasure, religion, proud, althoug...</td>\n",
       "    </tr>\n",
       "    <tr>\n",
       "      <th>3</th>\n",
       "      <td>And all that is now to be at an end?</td>\n",
       "      <td>4</td>\n",
       "      <td>Nietzsche</td>\n",
       "      <td>[end]</td>\n",
       "    </tr>\n",
       "    <tr>\n",
       "      <th>4</th>\n",
       "      <td>xi., Bohns Translation.... In engaging in war ...</td>\n",
       "      <td>0</td>\n",
       "      <td>Kant</td>\n",
       "      <td>[bohns, translation, engaging, war, ought, mak...</td>\n",
       "    </tr>\n",
       "  </tbody>\n",
       "</table>\n",
       "</div>"
      ],
      "text/plain": [
       "                                            sentence  label     author  \\\n",
       "0  Nay suppose we coued draw an inference, it wou...      1       Hume   \n",
       "1  For to know this is true wisdom and virtue, an...      2      Plato   \n",
       "2  This is the testimony of pleasure of which all...      4  Nietzsche   \n",
       "3               And all that is now to be at an end?      4  Nietzsche   \n",
       "4  xi., Bohns Translation.... In engaging in war ...      0       Kant   \n",
       "\n",
       "                                    tok_lem_sentence  \n",
       "0  [nay, suppose, coued, draw, inference, would, ...  \n",
       "1  [know, true, wisdom, virtue, ignorance, manife...  \n",
       "2  [testimony, pleasure, religion, proud, althoug...  \n",
       "3                                              [end]  \n",
       "4  [bohns, translation, engaging, war, ought, mak...  "
      ]
     },
     "execution_count": 13,
     "metadata": {},
     "output_type": "execute_result"
    }
   ],
   "source": [
    "from load_data import LoadData\n",
    "\n",
    "corpus = LoadData(n_max=1000)\n",
    "corpus.load()\n",
    "philo_df = corpus.corpus\n",
    "philo_df = philo_df[['sentence', 'label', 'author', 'tok_lem_sentence']]\n",
    "\n",
    "philo_df.head()"
   ]
  },
  {
   "cell_type": "code",
   "execution_count": 14,
   "metadata": {},
   "outputs": [
    {
     "name": "stderr",
     "output_type": "stream",
     "text": [
      "/home/bettyld/anaconda3/envs/py37/lib/python3.7/site-packages/pandas/core/frame.py:1490: FutureWarning: Using short name for 'orient' is deprecated. Only the options: ('dict', list, 'series', 'split', 'records', 'index') will be used in a future version. Use one of the above to silence this warning.\n",
      "  FutureWarning,\n"
     ]
    },
    {
     "data": {
      "text/plain": [
       "{1: 'Hume', 2: 'Plato', 4: 'Nietzsche', 0: 'Kant', 3: 'Aristotle'}"
      ]
     },
     "execution_count": 14,
     "metadata": {},
     "output_type": "execute_result"
    }
   ],
   "source": [
    "enc_aut = {}\n",
    "aut_label = philo_df[['author', 'label']].drop_duplicates().reset_index(drop=True).to_dict('record')\n",
    "for k in aut_label:\n",
    "    enc_aut[k['label']] = k['author']\n",
    "enc_aut    "
   ]
  },
  {
   "cell_type": "code",
   "execution_count": 15,
   "metadata": {},
   "outputs": [
    {
     "name": "stdout",
     "output_type": "stream",
     "text": [
      "sentence            0\n",
      "label               0\n",
      "author              0\n",
      "tok_lem_sentence    0\n",
      "dtype: int64\n"
     ]
    },
    {
     "name": "stderr",
     "output_type": "stream",
     "text": [
      "/home/bettyld/anaconda3/envs/py37/lib/python3.7/site-packages/ipykernel_launcher.py:6: SettingWithCopyWarning: \n",
      "A value is trying to be set on a copy of a slice from a DataFrame.\n",
      "Try using .loc[row_indexer,col_indexer] = value instead\n",
      "\n",
      "See the caveats in the documentation: https://pandas.pydata.org/pandas-docs/stable/user_guide/indexing.html#returning-a-view-versus-a-copy\n",
      "  \n"
     ]
    },
    {
     "data": {
      "image/png": "[encoded data removed]",
      "text/plain": [
       "<Figure size 432x288 with 1 Axes>"
      ]
     },
     "metadata": {
      "needs_background": "light"
     },
     "output_type": "display_data"
    },
    {
     "data": {
      "image/png": "[encoded data removed]",
      "text/plain": [
       "<Figure size 432x288 with 1 Axes>"
      ]
     },
     "metadata": {
      "needs_background": "light"
     },
     "output_type": "display_data"
    },
    {
     "data": {
      "image/png": "[encoded data removed]",
      "text/plain": [
       "<Figure size 432x288 with 1 Axes>"
      ]
     },
     "metadata": {
      "needs_background": "light"
     },
     "output_type": "display_data"
    },
    {
     "data": {
      "text/plain": [
       "author\n",
       "Aristotle    3\n",
       "Hume         1\n",
       "Kant         0\n",
       "Nietzsche    4\n",
       "Plato        2\n",
       "Name: label, dtype: int64"
      ]
     },
     "execution_count": 15,
     "metadata": {},
     "output_type": "execute_result"
    }
   ],
   "source": [
    "df_nan = philo_df.isna()\n",
    "print(df_nan.sum())\n",
    "\n",
    "# print(philo_df.describe())\n",
    "\n",
    "philo_df['word_count'] = philo_df['sentence'].apply(lambda x: x.count(' '))\n",
    "\n",
    "\n",
    "philo_df.groupby('author')['word_count'].mean().plot.bar()\n",
    "plt.show()\n",
    "philo_df.groupby('author')['label'].count().plot.bar()\n",
    "plt.show()\n",
    "\n",
    "philo_df.groupby('author')['label'].size().plot.bar()\n",
    "plt.show()\n",
    "\n",
    "philo_df.groupby('author')['label'].mean()"
   ]
  },
  {
   "cell_type": "code",
   "execution_count": 16,
   "metadata": {},
   "outputs": [],
   "source": [
    "train_test_ratio = 0.80\n",
    "train_valid_ratio = 0.80\n",
    "df_train, df_test = train_test_split(philo_df, train_size = train_test_ratio, random_state = ran_state)\n",
    "df_train, df_val = train_test_split(philo_df, train_size = train_valid_ratio, random_state = ran_state)\n",
    "\n",
    "# Write preprocessed data\n",
    "df_train.to_csv(dl_folder + '/train.csv', index=False)\n",
    "df_val.to_csv(dl_folder + '/val.csv', index=False)\n",
    "df_test.to_csv(dl_folder + '/test.csv', index=False)"
   ]
  },
  {
   "cell_type": "code",
   "execution_count": 17,
   "metadata": {},
   "outputs": [],
   "source": [
    "# Libraries\n",
    "\n",
    "import matplotlib.pyplot as plt\n",
    "import pandas as pd\n",
    "import torch\n",
    "\n",
    "# Preliminaries\n",
    "\n",
    "from torchtext.data import Field, TabularDataset, BucketIterator\n",
    "\n",
    "# Models\n",
    "\n",
    "import torch.nn as nn\n",
    "from torch.nn.utils.rnn import pack_padded_sequence, pad_packed_sequence\n",
    "\n",
    "# Training\n",
    "\n",
    "import torch.optim as optim\n",
    "\n",
    "# Evaluation\n",
    "\n",
    "from sklearn.metrics import accuracy_score, classification_report, confusion_matrix\n",
    "import seaborn as sns"
   ]
  },
  {
   "cell_type": "code",
   "execution_count": 18,
   "metadata": {},
   "outputs": [
    {
     "name": "stderr",
     "output_type": "stream",
     "text": [
      "/home/bettyld/anaconda3/envs/py37/lib/python3.7/site-packages/torchtext/data/field.py:150: UserWarning: Field class will be retired soon and moved to torchtext.legacy. Please see the most recent release notes for further information.\n",
      "  warnings.warn('{} class will be retired soon and moved to torchtext.legacy. Please see the most recent release notes for further information.'.format(self.__class__.__name__), UserWarning)\n",
      "/home/bettyld/anaconda3/envs/py37/lib/python3.7/site-packages/torchtext/data/example.py:68: UserWarning: Example class will be retired soon and moved to torchtext.legacy. Please see the most recent release notes for further information.\n",
      "  warnings.warn('Example class will be retired soon and moved to torchtext.legacy. Please see the most recent release notes for further information.', UserWarning)\n",
      "/home/bettyld/anaconda3/envs/py37/lib/python3.7/site-packages/torchtext/data/example.py:78: UserWarning: Example class will be retired soon and moved to torchtext.legacy. Please see the most recent release notes for further information.\n",
      "  warnings.warn('Example class will be retired soon and moved to torchtext.legacy. Please see the most recent release notes for further information.', UserWarning)\n"
     ]
    },
    {
     "name": "stdout",
     "output_type": "stream",
     "text": [
      "First instances for training {text, label} {'sentence': ['When', 'he', 'had', 'bathed', ',', 'and', 'his', 'children', 'were', 'brought', 'to', 'him', ',', 'and', 'the', 'women', 'belonging', 'to', 'his', 'family', 'were', 'come', ',', 'having', 'conversed', 'with', 'them', 'in', 'the', 'presence', 'of', 'Crito', ',', 'and', 'given', 'them', 'such', 'injunctions', 'as', 'he', 'wished', ',', 'he', 'directed', 'the', 'women', 'and', 'children', 'to', 'go', 'away', ',', 'and', 'then', 'returned', 'to', 'us', '.', ', having', 'then returned', 'family were', 'were brought', 'come ,', 'them in', 'and then', 'brought to', 'the women', 'he wished', 'he directed', 'returned to', 'to his', 'away ,', ', and', 'his children', 'to go', 'bathed ,', 'given them', 'us .', 'women and', 'go away', 'children were', 'children to', 'women belonging', 'conversed with', 'and children', 'and the', 'with them', 'them such', 'to us', ', he', 'he had', 'were come', 'Crito ,', 'and given', 'directed the', 'such injunctions', 'as he', 'his family', 'belonging to', 'When he', 'in the', 'having conversed', 'him ,', 'the presence', 'of Crito', 'presence of', 'to him', 'injunctions as', 'and his', 'had bathed', 'wished ,'], 'author': '2'}\n"
     ]
    }
   ],
   "source": [
    "import spacy \n",
    "\n",
    "BATCH_SIZE = 32 \n",
    "\n",
    "spacy_en = spacy.load(\"en_core_web_sm\")\n",
    "def tokenizer(text): # create a tokenizer function\n",
    "    return [tok.text for tok in spacy_en.tokenizer(text)]\n",
    "\n",
    "def generate_bigrams(seq):\n",
    "    \"\"\"\n",
    "    Add bigrams after 1-gram tokens.\n",
    "    >>> generate_bigrams(['This', 'film', 'is', 'terrible'])\n",
    "    >>> ['This', 'film', 'is', 'terrible', 'film is', 'is terrible', 'This film']\n",
    "    \"\"\"\n",
    "    n_grams = set(zip(*[seq[i:] for i in range(2)]))\n",
    "    for n_gram in n_grams:\n",
    "        seq.append(' '.join(n_gram))\n",
    "    return seq\n",
    "\n",
    "# Create Fields\n",
    "LABEL = Field(sequential=False, use_vocab=False, batch_first=True, dtype=torch.long)\n",
    "TEXT = Field(sequential=True, tokenize = 'spacy',\n",
    "                  tokenizer_language = 'en_core_web_sm',\n",
    "                  preprocessing = generate_bigrams, include_lengths=True, batch_first=True)\n",
    "fields = [('sentence', TEXT), ('author', LABEL)]\n",
    "\n",
    "# Create TabularDataset\n",
    "train_data, valid_data, test_data = TabularDataset.splits(path=dl_folder, train='train.csv', validation='val.csv', test='test.csv',\n",
    "                                           format='CSV', fields=fields, skip_header=True)\n",
    "\n",
    "print('First instances for training {text, label}', vars(train_data[3]))"
   ]
  },
  {
   "cell_type": "code",
   "execution_count": 19,
   "metadata": {},
   "outputs": [],
   "source": [
    "# Vocabulary\n",
    "# text_field.build_vocab(train, min_freq=3)\n",
    "\n",
    "# We build the vocab with glove 6b embedding\n",
    "# It generates embedding from string\n",
    "MAX_VOCAB_SIZE = 25_000\n",
    "\n",
    "TEXT.build_vocab(train_data, \n",
    "                 max_size = MAX_VOCAB_SIZE, \n",
    "                 vectors = \"glove.6B.100d\", \n",
    "                 unk_init = torch.Tensor.normal_)\n",
    "LABEL.build_vocab(train_data)"
   ]
  },
  {
   "cell_type": "code",
   "execution_count": 20,
   "metadata": {},
   "outputs": [
    {
     "data": {
      "text/plain": [
       "tensor([ 0.8361,  0.0741,  0.4035,  0.9052,  0.9093, -0.9562,  0.4209, -3.0193,\n",
       "        -0.4904,  0.8428, -1.3858,  0.3815,  0.3563, -0.2995, -0.6272, -1.1421,\n",
       "         1.3801,  1.9051, -1.6055,  0.9271,  0.0549,  0.3111, -1.0512, -1.4214,\n",
       "         1.4088,  0.7820, -1.0420,  0.3987, -1.4779,  0.4008,  0.8786,  0.4321,\n",
       "        -1.7822,  0.6221, -0.0068, -0.7846,  0.2271,  0.0166, -0.3770,  0.5286,\n",
       "        -0.2253,  0.4584,  0.0371, -0.3824, -1.1905, -0.2926,  1.9259, -0.6985,\n",
       "        -0.3428,  0.9361, -0.4678,  1.5222,  0.4198, -1.1068,  0.4686, -0.0953,\n",
       "        -1.2238,  0.4531, -0.4026,  0.7346,  1.6088,  0.6045,  1.7433, -1.8400,\n",
       "        -0.1446, -0.0592,  0.7178, -0.0487,  0.8786,  1.9768,  0.1268, -0.1412,\n",
       "         0.7519,  1.0235,  1.8326,  0.1836, -1.4087, -0.7043, -0.0641, -0.7196,\n",
       "         0.1921, -1.3827, -0.3775, -0.9951,  0.3862,  0.0821, -0.2431, -1.2590,\n",
       "         0.9977,  0.7609,  2.3067,  0.8580,  0.8785, -1.7842, -1.4248,  1.4945,\n",
       "         0.6284, -0.3802, -0.0185,  1.0531])"
      ]
     },
     "execution_count": 20,
     "metadata": {},
     "output_type": "execute_result"
    }
   ],
   "source": [
    "# To do try animal and city name\n",
    "# Retrieve the vector for dog\n",
    "TEXT.vocab.vectors[TEXT.vocab.stoi['Paris']]"
   ]
  },
  {
   "cell_type": "code",
   "execution_count": 21,
   "metadata": {},
   "outputs": [
    {
     "name": "stdout",
     "output_type": "stream",
     "text": [
      "0\n",
      "0\n",
      "tensor([-1.6614,  1.1545, -0.9539,  1.5112,  1.2421, -1.2255, -0.3273, -0.7928,\n",
      "         0.1389,  1.0507,  0.6977, -0.9729,  0.3348,  0.3781, -0.2271, -0.9677,\n",
      "         0.4873,  0.5258,  0.7060,  0.7559, -1.6422,  1.2089,  1.7998, -0.3703,\n",
      "        -0.7985, -0.3633, -0.5790,  0.7280, -0.3867, -0.9491, -0.3187,  1.1952,\n",
      "        -0.0409,  1.0870, -0.1299, -0.6890,  0.6349,  1.8065,  0.5650,  0.4353,\n",
      "         0.4575,  1.2969, -0.4133,  0.3201, -0.8715,  1.2667, -0.4072, -1.2192,\n",
      "        -1.1033, -0.0458, -0.1512,  0.3465,  0.9425,  0.2403, -1.3882, -1.0304,\n",
      "         0.2646, -0.2421,  0.6515,  0.9840,  0.1514, -2.3562, -0.4326,  1.2781,\n",
      "         0.9605,  0.3671, -0.9989, -0.2501, -0.5505, -0.5285,  0.5271, -1.3253,\n",
      "         0.6040,  1.4566, -1.1941,  0.5740,  1.2820, -0.8345,  0.6322,  0.0383,\n",
      "         1.2307,  0.3444, -1.8191, -0.3241, -0.6964, -0.0823,  0.6648, -0.9254,\n",
      "        -0.3084,  0.6984,  0.0979,  0.3449,  0.7896,  0.2754, -0.9191, -1.0275,\n",
      "        -2.2898,  1.2764,  0.0129, -1.3250])\n"
     ]
    }
   ],
   "source": [
    "# Display frequency, wordindex and \n",
    "# vector for each word respectively of the \n",
    "print(TEXT.vocab.freqs[1])\n",
    "# stoi gives access to a dictionnary containing word and their indexes\n",
    "print(TEXT.vocab.stoi[1])\n",
    "print(TEXT.vocab.vectors[1])"
   ]
  },
  {
   "cell_type": "code",
   "execution_count": 22,
   "metadata": {},
   "outputs": [
    {
     "name": "stderr",
     "output_type": "stream",
     "text": [
      "/home/bettyld/anaconda3/envs/py37/lib/python3.7/site-packages/torchtext/data/iterator.py:48: UserWarning: BucketIterator class will be retired soon and moved to torchtext.legacy. Please see the most recent release notes for further information.\n",
      "  warnings.warn('{} class will be retired soon and moved to torchtext.legacy. Please see the most recent release notes for further information.'.format(self.__class__.__name__), UserWarning)\n",
      "/home/bettyld/anaconda3/envs/py37/lib/python3.7/site-packages/torchtext/data/batch.py:23: UserWarning: Batch class will be retired soon and moved to torchtext.legacy. Please see the most recent release notes for further information.\n",
      "  warnings.warn('{} class will be retired soon and moved to torchtext.legacy. Please see the most recent release notes for further information.'.format(self.__class__.__name__), UserWarning)\n"
     ]
    },
    {
     "ename": "AttributeError",
     "evalue": "'Batch' object has no attribute 'label'",
     "output_type": "error",
     "traceback": [
      "\u001b[0;31m---------------------------------------------------------------------------\u001b[0m",
      "\u001b[0;31mAttributeError\u001b[0m                            Traceback (most recent call last)",
      "\u001b[0;32m<ipython-input-22-4d4609ee5f23>\u001b[0m in \u001b[0;36m<module>\u001b[0;34m()\u001b[0m\n\u001b[1;32m     11\u001b[0m \u001b[0;34m\u001b[0m\u001b[0m\n\u001b[1;32m     12\u001b[0m \u001b[0mbatch\u001b[0m \u001b[0;34m=\u001b[0m \u001b[0mnext\u001b[0m\u001b[0;34m(\u001b[0m\u001b[0miter\u001b[0m\u001b[0;34m(\u001b[0m\u001b[0mtrain_iterator\u001b[0m\u001b[0;34m)\u001b[0m\u001b[0;34m)\u001b[0m\u001b[0;34m\u001b[0m\u001b[0;34m\u001b[0m\u001b[0m\n\u001b[0;32m---> 13\u001b[0;31m \u001b[0mprint\u001b[0m\u001b[0;34m(\u001b[0m\u001b[0;34m'next batch instance according to their respective field'\u001b[0m\u001b[0;34m,\u001b[0m \u001b[0mbatch\u001b[0m\u001b[0;34m,\u001b[0m \u001b[0mbatch\u001b[0m\u001b[0;34m.\u001b[0m\u001b[0msentence\u001b[0m\u001b[0;34m,\u001b[0m \u001b[0mbatch\u001b[0m\u001b[0;34m.\u001b[0m\u001b[0mlabel\u001b[0m\u001b[0;34m)\u001b[0m\u001b[0;34m\u001b[0m\u001b[0;34m\u001b[0m\u001b[0m\n\u001b[0m\u001b[1;32m     14\u001b[0m \u001b[0;32mfor\u001b[0m \u001b[0mdata\u001b[0m \u001b[0;32min\u001b[0m \u001b[0mvalid_iterator\u001b[0m\u001b[0;34m:\u001b[0m\u001b[0;34m\u001b[0m\u001b[0;34m\u001b[0m\u001b[0m\n\u001b[1;32m     15\u001b[0m     \u001b[0;34m(\u001b[0m\u001b[0mx\u001b[0m\u001b[0;34m,\u001b[0m \u001b[0mx_len\u001b[0m\u001b[0;34m)\u001b[0m\u001b[0;34m,\u001b[0m \u001b[0my\u001b[0m \u001b[0;34m=\u001b[0m \u001b[0mdata\u001b[0m\u001b[0;34m.\u001b[0m\u001b[0msentence\u001b[0m\u001b[0;34m,\u001b[0m \u001b[0mdata\u001b[0m\u001b[0;34m.\u001b[0m\u001b[0mlabel\u001b[0m\u001b[0;34m\u001b[0m\u001b[0;34m\u001b[0m\u001b[0m\n",
      "\u001b[0;31mAttributeError\u001b[0m: 'Batch' object has no attribute 'label'"
     ]
    }
   ],
   "source": [
    "BATCH_SIZE = 32\n",
    "\n",
    "# Create Iterators\n",
    "train_iterator, valid_iterator, test_iterator = BucketIterator.splits(\n",
    "    (train_data, valid_data, test_data), \n",
    "    sort_key=lambda x: len(x.sentence),\n",
    "    sort=False,\n",
    "    shuffle=True,\n",
    "    batch_size = BATCH_SIZE, \n",
    "    device = device)\n",
    "\n",
    "batch = next(iter(train_iterator))\n",
    "print('next batch instance according to their respective field', batch, batch.sentence, batch.label)\n",
    "for data in valid_iterator:\n",
    "    (x, x_len), y = data.sentence, data.label\n",
    "    print(x, x_len, y)\n",
    "    break"
   ]
  },
  {
   "cell_type": "code",
   "execution_count": 73,
   "metadata": {},
   "outputs": [],
   "source": [
    "# Training \n",
    "# Save and Load Functions\n",
    "\n",
    "def save_checkpoint(save_path, model, optimizer, valid_loss):\n",
    "\n",
    "    if save_path == None:\n",
    "        return\n",
    "    state_dict = {'model_state_dict': model.state_dict(),\n",
    "                  'optimizer_state_dict': optimizer.state_dict(),\n",
    "                  'valid_loss': valid_loss}\n",
    "    torch.save(state_dict, save_path)\n",
    "    print(f'Model saved to ==> {save_path}')\n",
    "\n",
    "\n",
    "def load_checkpoint(load_path, model, optimizer):\n",
    "\n",
    "    if load_path==None:\n",
    "        return\n",
    "    state_dict = torch.load(load_path, map_location=device)\n",
    "    print(f'Model loaded from <== {load_path}')\n",
    "    model.load_state_dict(state_dict['model_state_dict'])\n",
    "    optimizer.load_state_dict(state_dict['optimizer_state_dict'])\n",
    "    return state_dict['valid_loss']\n",
    "\n",
    "\n",
    "def save_metrics(save_path, train_loss_list, valid_loss_list, global_steps_list):\n",
    "\n",
    "    if save_path == None:\n",
    "        return\n",
    "    state_dict = {'train_loss_list': train_loss_list,\n",
    "                  'valid_loss_list': valid_loss_list,\n",
    "                  'global_steps_list': global_steps_list}\n",
    "    torch.save(state_dict, save_path)\n",
    "    print(f'Model saved to ==> {save_path}')\n",
    "\n",
    "\n",
    "def load_metrics(load_path):\n",
    "\n",
    "    if load_path==None:\n",
    "        return\n",
    "    state_dict = torch.load(load_path, map_location=device)\n",
    "    print(f'Model loaded from <== {load_path}')\n",
    "    return state_dict['train_loss_list'], state_dict['valid_loss_list'], state_dict['global_steps_list']"
   ]
  },
  {
   "cell_type": "code",
   "execution_count": 74,
   "metadata": {},
   "outputs": [],
   "source": [
    "class LSTM(nn.Module):\n",
    "\n",
    "#     def __init__(self, dimension=128):\n",
    "    def __init__(self, vocab_size,\n",
    "                 embedding_dim, hidden_dim,\n",
    "                 output_dim,\n",
    "                 n_layers, \n",
    "                 bidirectional,\n",
    "                 dropout,\n",
    "                 pad_idx):\n",
    "        super(LSTM, self).__init__()\n",
    "        self.hidden_size = hidden_dim\n",
    "        self.embedding = nn.Embedding(vocab_size, embedding_dim,\n",
    "                                      padding_idx = pad_idx)\n",
    "        self.lstm = nn.LSTM(input_size=embedding_dim,\n",
    "                            hidden_size=hidden_dim,\n",
    "                            num_layers=n_layers,\n",
    "                            batch_first=True,\n",
    "                            bidirectional=bidirectional,\n",
    "                           dropout=dropout)\n",
    "        self.drop = nn.Dropout(p=dropout)\n",
    "\n",
    "        self.fc = nn.Linear(2*hidden_dim, output_dim)\n",
    "\n",
    "    def forward(self, text, text_len):\n",
    "\n",
    "        text_emb = self.embedding(text)\n",
    "\n",
    "        packed_input = pack_padded_sequence(text_emb, text_len, batch_first=True, enforce_sorted=False)\n",
    "        packed_output, _ = self.lstm(packed_input)\n",
    "        output, _ = pad_packed_sequence(packed_output, batch_first=True)\n",
    "\n",
    "        out_forward = output[range(len(output)), text_len - 1, :self.hidden_size]\n",
    "        out_reverse = output[:, 0, self.hidden_size:]\n",
    "        out_reduced = torch.cat((out_forward, out_reverse), 1)\n",
    "        text_fea = self.drop(out_reduced)\n",
    "\n",
    "        text_fea = self.fc(text_fea)\n",
    "        text_fea = torch.squeeze(text_fea, 1)\n",
    "        text_out = torch.sigmoid(text_fea)\n",
    "\n",
    "        return text_out"
   ]
  },
  {
   "cell_type": "code",
   "execution_count": 75,
   "metadata": {},
   "outputs": [],
   "source": [
    "# Training Function\n",
    "\n",
    "INPUT_DIM = len(TEXT.vocab)\n",
    "EMBEDDING_DIM = 100  # first layer is the embedded layer that uses 100 length vectors to represent each word.\n",
    "HIDDEN_DIM = 256\n",
    "OUTPUT_DIM = len(LABEL.vocab) # To check\n",
    "N_LAYERS = 2\n",
    "BIDIRECTIONAL = True\n",
    "DROPOUT = 0.5\n",
    "PAD_IDX = TEXT.vocab.stoi[TEXT.pad_token]\n",
    "\n",
    "model = LSTM(INPUT_DIM, \n",
    "            EMBEDDING_DIM, \n",
    "            HIDDEN_DIM, \n",
    "            OUTPUT_DIM, \n",
    "            N_LAYERS, \n",
    "            BIDIRECTIONAL, \n",
    "            DROPOUT, \n",
    "            PAD_IDX)\n"
   ]
  },
  {
   "cell_type": "code",
   "execution_count": 76,
   "metadata": {},
   "outputs": [
    {
     "name": "stdout",
     "output_type": "stream",
     "text": [
      "torch.Size([25002, 100])\n",
      "tensor([[ 0.0000,  0.0000,  0.0000,  ...,  0.0000,  0.0000,  0.0000],\n",
      "        [ 0.0000,  0.0000,  0.0000,  ...,  0.0000,  0.0000,  0.0000],\n",
      "        [-0.0382, -0.2449,  0.7281,  ..., -0.1459,  0.8278,  0.2706],\n",
      "        ...,\n",
      "        [-0.6971, -0.8865,  0.7625,  ..., -0.2578, -2.3295, -0.9226],\n",
      "        [ 0.5935, -1.2607, -1.2701,  ..., -2.2648,  1.4020,  2.2614],\n",
      "        [-0.8253, -0.2917, -0.4031,  ..., -0.7828, -0.1828, -1.0616]])\n"
     ]
    }
   ],
   "source": [
    "pretrained_embeddings = TEXT.vocab.vectors\n",
    "print(pretrained_embeddings.shape)\n",
    "model.embedding.weight.data.copy_(pretrained_embeddings)\n",
    "\n",
    "UNK_IDX = TEXT.vocab.stoi[TEXT.unk_token]\n",
    "model.embedding.weight.data[UNK_IDX] = torch.zeros(EMBEDDING_DIM)\n",
    "model.embedding.weight.data[PAD_IDX] = torch.zeros(EMBEDDING_DIM)\n",
    "\n",
    "print(model.embedding.weight.data)"
   ]
  },
  {
   "cell_type": "code",
   "execution_count": 169,
   "metadata": {},
   "outputs": [],
   "source": [
    "from sklearn.metrics import accuracy_score, precision_recall_fscore_support\n",
    "import tqdm \n",
    "\n",
    "def epoch_time(start_time, end_time):\n",
    "    elapsed_time = end_time - start_time\n",
    "    elapsed_mins = int(elapsed_time / 60)\n",
    "    elapsed_secs = int(elapsed_time - (elapsed_mins * 60))\n",
    "    return elapsed_mins, elapsed_secs\n",
    "\n",
    "def fit(model, it, is_eval=False, optim=None, crit=None):\n",
    "    epoch_loss = 0\n",
    "    epoch_acc = 0\n",
    "    epoch_prec = 0; epoch_rec = 0; epoch_f1 = epoch_prec\n",
    "    if is_eval:\n",
    "        model.eval()\n",
    "    else:\n",
    "        model.train()\n",
    "    for batch in tqdm.tqdm(it, total=len(it)):\n",
    "        if not is_eval:\n",
    "            optim.zero_grad()\n",
    "        text, text_lenghts = batch.sentence\n",
    "        text = text.type(torch.LongTensor)\n",
    "        is_null = text_lenghts==0\n",
    "        if True in is_null: # TO FIX\n",
    "            print(text, text_lenghts)\n",
    "            continue\n",
    "        preds = model(text, text_lenghts)\n",
    "        loss = crit(preds, batch.label)\n",
    "        acc = accuracy_score(batch.label.cpu().detach().numpy(), np.argmax(preds.cpu().detach().numpy(), axis=1))\n",
    "        if not is_eval:\n",
    "            loss.backward()\n",
    "            optim.step()\n",
    "        else:\n",
    "            prec, recall, f1, _ = precision_recall_fscore_support(batch.label.cpu().detach().numpy(), np.argmax(preds.cpu().detach().numpy(), axis=1), average='weighted')\n",
    "            epoch_prec += prec\n",
    "            epoch_rec += recall\n",
    "            epoch_f1 += f1\n",
    "        epoch_loss += loss.item()\n",
    "        epoch_acc += acc.item()\n",
    "    \n",
    "    return epoch_loss / len(it), epoch_acc / len(it), epoch_prec / len(it), epoch_rec /len(it), epoch_f1 / len(it)\n",
    "\n",
    "\n",
    "import torch.optim as optim\n",
    "\n",
    "optimizer = optim.Adam(model.parameters(), lr=0.001)\n",
    "criterion =  nn.CrossEntropyLoss()\n",
    "\n",
    "model = model.to(device)\n",
    "criterion = criterion.to(device)"
   ]
  },
  {
   "cell_type": "code",
   "execution_count": 40,
   "metadata": {},
   "outputs": [
    {
     "ename": "NameError",
     "evalue": "name 'train_iter' is not defined",
     "output_type": "error",
     "traceback": [
      "\u001b[0;31m---------------------------------------------------------------------------\u001b[0m",
      "\u001b[0;31mNameError\u001b[0m                                 Traceback (most recent call last)",
      "\u001b[0;32m<ipython-input-40-7bb336cec19c>\u001b[0m in \u001b[0;36m<module>\u001b[0;34m\u001b[0m\n\u001b[1;32m      1\u001b[0m def train(model,\n\u001b[1;32m      2\u001b[0m           \u001b[0moptimizer\u001b[0m\u001b[0;34m,\u001b[0m\u001b[0;34m\u001b[0m\u001b[0;34m\u001b[0m\u001b[0m\n\u001b[0;32m----> 3\u001b[0;31m           \u001b[0mtrain_loader\u001b[0m \u001b[0;34m=\u001b[0m \u001b[0mtrain_iter\u001b[0m\u001b[0;34m,\u001b[0m\u001b[0;34m\u001b[0m\u001b[0;34m\u001b[0m\u001b[0m\n\u001b[0m\u001b[1;32m      4\u001b[0m           \u001b[0mvalid_loader\u001b[0m \u001b[0;34m=\u001b[0m \u001b[0mvalid_iter\u001b[0m\u001b[0;34m,\u001b[0m\u001b[0;34m\u001b[0m\u001b[0;34m\u001b[0m\u001b[0m\n\u001b[1;32m      5\u001b[0m           \u001b[0mnum_epochs\u001b[0m \u001b[0;34m=\u001b[0m \u001b[0;36m10\u001b[0m\u001b[0;34m,\u001b[0m\u001b[0;34m\u001b[0m\u001b[0;34m\u001b[0m\u001b[0m\n",
      "\u001b[0;31mNameError\u001b[0m: name 'train_iter' is not defined"
     ]
    }
   ],
   "source": [
    "def train(model,\n",
    "          optimizer,\n",
    "          train_loader = train_iter,\n",
    "          valid_loader = valid_iter,\n",
    "          num_epochs = 10,\n",
    "          eval_every = len(train_iter) // 2,\n",
    "          file_path = destination_folder,\n",
    "          best_valid_loss = float(\"Inf\")):\n",
    "    \n",
    "    # initialize running values\n",
    "    running_loss = 0.0\n",
    "    valid_running_loss = 0.0\n",
    "    global_step = 0\n",
    "    train_loss_list = []\n",
    "    valid_loss_list = []\n",
    "    global_steps_list = []\n",
    "\n",
    "    # training loop\n",
    "    model.train()\n",
    "    for epoch in range(num_epochs):\n",
    "        start_time = time.time()\n",
    "        train_loss, train_acc, _ = fit(model, train_iterator, is_eval=False,\n",
    "                                    optim=optimizer, crit=criterion)\n",
    "        valid_loss, valid_acc, val_prec, val_rec, val_f1 = fit(model, valid_iterator, is_eval=True,\n",
    "                                         crit=criterion)\n",
    "        end_time = time.time()\n",
    "\n",
    "        epoch_mins, epoch_secs = epoch_time(start_time, end_time)\n",
    "\n",
    "        if valid_loss < best_valid_loss:\n",
    "            best_valid_loss = valid_loss\n",
    "            torch.save(model.state_dict(), 'tut2-model.pt')\n",
    "       \n",
    "        print(f'Epoch: {epoch+1:02} | Epoch Time: {epoch_mins}m {epoch_secs}s')\n",
    "        print(f'\\tTrain Loss: {train_loss:.3f} | Train Acc: {train_acc*100:.2f}%')\n",
    "        print(f'\\t Val. Loss: {valid_loss:.3f} |  Val. Acc: {valid_acc*100:.2f}%')\n",
    "        print(f'\\t Val. Pre: {val_prec:.3f} |  Val. Rec: {val_rec*100:.2f}% | Val. F1: {val_f1*100:.2f}%')\n",
    "\n",
    "    # Last model\n",
    "    torch.save(model.state_dict(), 'tut2-model.pt')\n",
    "    print('Finished Training!')\n",
    "\n",
    "\n",
    "# train(model=model, optimizer=optimizer, num_epochs=10)"
   ]
  },
  {
   "cell_type": "code",
   "execution_count": 320,
   "metadata": {},
   "outputs": [],
   "source": [
    "# torch.save(model.state_dict(), 'tut2-model.pt')"
   ]
  },
  {
   "cell_type": "code",
   "execution_count": null,
   "metadata": {},
   "outputs": [],
   "source": [
    "# Evaluate"
   ]
  },
  {
   "cell_type": "code",
   "execution_count": 170,
   "metadata": {},
   "outputs": [
    {
     "name": "stderr",
     "output_type": "stream",
     "text": [
      "100%|██████████| 335/335 [01:06<00:00,  5.01it/s]"
     ]
    },
    {
     "name": "stdout",
     "output_type": "stream",
     "text": [
      "Test Loss: 1.630 | Test Acc: 39.30%\n",
      "Test prec: 0.370 | Test rec: 39.30% | Test f1: 35.68%\n"
     ]
    },
    {
     "name": "stderr",
     "output_type": "stream",
     "text": [
      "\n"
     ]
    }
   ],
   "source": [
    "# Evaluate\n",
    "model.load_state_dict(torch.load('tut2-model.pt'))\n",
    "test_loss, test_acc, test_prec, test_rec, test_f1 = fit(model, test_iterator, crit=criterion, is_eval=True)\n",
    "print(f'Test Loss: {test_loss:.3f} | Test Acc: {test_acc*100:.2f}%')\n",
    "print(f'Test prec: {test_prec:.3f} | Test rec: {test_rec*100:.2f}% | Test f1: {test_f1*100:.2f}%')\n",
    "\n"
   ]
  },
  {
   "cell_type": "code",
   "execution_count": null,
   "metadata": {},
   "outputs": [],
   "source": [
    "# Predict"
   ]
  },
  {
   "cell_type": "code",
   "execution_count": 209,
   "metadata": {},
   "outputs": [
    {
     "name": "stdout",
     "output_type": "stream",
     "text": [
      "the difficulti on thi head must encreas when we consid that our judgment alter veri sensibl accord to the subject and that the same power and proxim will be deem possess in one case which is not esteem such in anoth \n",
      " Hume\n",
      "Prediction: Aristotle\n"
     ]
    }
   ],
   "source": [
    "# glove embed\n",
    "# from torchtext.vocab import GloVe\n",
    "# embedding_glove = GloVe(name='6B', dim=100)\n",
    "import random \n",
    "\n",
    "def generate_sentence(n):\n",
    "    sample = philo_df[['sentence', 'author']].iloc[n%len(philo_df)]\n",
    "    return sample.sentence, sample.author\n",
    "\n",
    "def predict(model, sentence):\n",
    "    model.eval()\n",
    "    # split one sentence into list of words (smartly splitted by spacy)\n",
    "    tokenized = generate_bigrams([tok.text for tok in spacy_en.tokenizer(sentence)])\n",
    "    # Embedded with Glove\n",
    "    indexed = [TEXT.vocab.stoi[t] for t in tokenized]\n",
    "    # Prepare input\n",
    "    length = [len(indexed)]\n",
    "    tensor = torch.LongTensor(indexed).to(device)\n",
    "    tensor = tensor.unsqueeze(1).transpose(0,1)\n",
    "    length_tensor = torch.LongTensor(length)\n",
    "    out = model(tensor, length_tensor)\n",
    "    out = np.argmax(out.cpu().detach().numpy(), axis=1)[0]\n",
    "    author_label = LABEL.vocab.stoi[str(out)]\n",
    "    author_label = enc_aut[author_label]\n",
    "    return author_label\n",
    "sentence_ex, label_ex = generate_sentence(random.randint(0, len(philo_df)))\n",
    "print(sentence_ex, '\\n', label_ex)\n",
    "print('Prediction:', predict(model, sentence_ex))\n"
   ]
  },
  {
   "cell_type": "code",
   "execution_count": 164,
   "metadata": {},
   "outputs": [
    {
     "data": {
      "text/plain": [
       "array([2, 2])"
      ]
     },
     "execution_count": 164,
     "metadata": {},
     "output_type": "execute_result"
    }
   ],
   "source": [
    "preds =  [[0.48278892, 0.4991066,  0.5182273,  0.50137734, 0.5032032,  0.50438505],\n",
    "[0.48278892, 0.4991066,  0.5182273,  0.50137734, 0.5032032,  0.50438505]]\n",
    "np.argmax(preds, axis=1)"
   ]
  },
  {
   "cell_type": "code",
   "execution_count": 180,
   "metadata": {},
   "outputs": [
    {
     "data": {
      "text/plain": [
       "sentence    i shall therefor ventur to acknowledg that not...\n",
       "author                                                   Hume\n",
       "Name: 23620, dtype: object"
      ]
     },
     "execution_count": 180,
     "metadata": {},
     "output_type": "execute_result"
    }
   ],
   "source": [
    "philo_df[['sentence', 'author']].iloc[2]"
   ]
  },
  {
   "cell_type": "code",
   "execution_count": 287,
   "metadata": {},
   "outputs": [
    {
     "data": {
      "text/plain": [
       "3"
      ]
     },
     "execution_count": 287,
     "metadata": {},
     "output_type": "execute_result"
    }
   ],
   "source": [
    "len(train_iterator)"
   ]
  },
  {
   "cell_type": "code",
   "execution_count": 183,
   "metadata": {},
   "outputs": [
    {
     "name": "stdout",
     "output_type": "stream",
     "text": [
      "defaultdict(<bound method Vocab._default_unk_index of <torchtext.vocab.Vocab object at 0x7fdebe9f5160>>, {'<unk>': 0, '1': 1, '2': 2, '4': 3, '0': 4, '3': 5, 1: 0, 3: 0, '[4]': 0, '[1]': 0}) {1: 'Hume', 2: 'Plato', 4: 'Nietzsche', 3: 'Aristotle', 0: 'Kant'}\n"
     ]
    }
   ],
   "source": [
    "print(LABEL.vocab.stoi, enc_aut)"
   ]
  },
  {
   "cell_type": "code",
   "execution_count": null,
   "metadata": {},
   "outputs": [],
   "source": []
  }
 ],
 "metadata": {
  "kernelspec": {
   "display_name": "Python [conda env:py37] *",
   "language": "python",
   "name": "conda-env-py37-py"
  },
  "language_info": {
   "codemirror_mode": {
    "name": "ipython",
    "version": 3
   },
   "file_extension": ".py",
   "mimetype": "text/x-python",
   "name": "python",
   "nbconvert_exporter": "python",
   "pygments_lexer": "ipython3",
   "version": "3.7.9"
  }
 },
 "nbformat": 4,
 "nbformat_minor": 4
}
