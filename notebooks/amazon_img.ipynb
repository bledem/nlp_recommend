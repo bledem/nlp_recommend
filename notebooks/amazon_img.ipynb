{
 "cells": [
  {
   "cell_type": "markdown",
   "id": "ee775c6e",
   "metadata": {},
   "source": [
    "https://pythonrepo.com/repo/yoavaviram-python-amazon-simple-product-api-python-third-party-apis-wrappers"
   ]
  },
  {
   "cell_type": "code",
   "execution_count": null,
   "id": "13ca69f4",
   "metadata": {},
   "outputs": [],
   "source": [
    "from amazon.api import AmazonAPI\n",
    "AMAZON_ACCESS_KEY = ''\n",
    "AMAZON_SECRET_KEY = ''\n",
    "AMAZON_ASSOC_TAG = ''\n",
    "\n",
    "region_options #  ['US', 'FR', 'CN', 'UK', 'IN', 'CA', 'DE', 'JP', 'IT', 'ES']\n",
    "amazon = AmazonAPI(AMAZON_ACCESS_KEY, AMAZON_SECRET_KEY, AMAZON_ASSOC_TAG, region=\"US\")\n",
    "product = amazon.lookup(ItemId='B00EOE0WKQ')\n",
    "product.title # 'Amazon Fire Phone, 32GB (AT&T)'\n",
    "product.price_and_currency # (199.0, 'USD')\n",
    "product.ean # '0848719035209'\n",
    "product.large_image_url # 'http://ecx.images-amazon.com/images/I/51BrZzpkWrL.jpg'\n",
    "product.get_attribute('Publisher') # 'Amazon'\n",
    "product.get_attributes(['ItemDimensions.Width', 'ItemDimensions.Height']) # {'ItemDimensions.Width': '262', 'ItemDimensions.Height': '35'}"
   ]
  },
  {
   "cell_type": "code",
   "execution_count": null,
   "id": "024a7881",
   "metadata": {},
   "outputs": [],
   "source": [
    "products = amazon.search(Keywords='kindle', SearchIndex='All')\n",
    "for i, product in enumerate(products):\n",
    "    print (\"{0}. '{1}'\".format(i, product.title))"
   ]
  }
 ],
 "metadata": {
  "kernelspec": {
   "display_name": "env",
   "language": "python",
   "name": "env"
  },
  "language_info": {
   "codemirror_mode": {
    "name": "ipython",
    "version": 3
   },
   "file_extension": ".py",
   "mimetype": "text/x-python",
   "name": "python",
   "nbconvert_exporter": "python",
   "pygments_lexer": "ipython3",
   "version": "3.8.8"
  }
 },
 "nbformat": 4,
 "nbformat_minor": 5
}
